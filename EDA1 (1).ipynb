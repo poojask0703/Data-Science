{
 "cells": [
  {
   "cell_type": "code",
   "execution_count": 1,
   "id": "17c527c2",
   "metadata": {},
   "outputs": [],
   "source": [
    "import pandas as pd\n",
    "import numpy as np\n",
    "import matplotlib.pyplot as plt\n",
    "import seaborn as sns"
   ]
  },
  {
   "cell_type": "code",
   "execution_count": 2,
   "id": "84ba7671",
   "metadata": {},
   "outputs": [],
   "source": [
    "data=pd.read_csv('Cardiotocographic.csv')"
   ]
  },
  {
   "cell_type": "code",
   "execution_count": 3,
   "id": "8a5ff3f7",
   "metadata": {},
   "outputs": [
    {
     "data": {
      "text/html": [
       "<div>\n",
       "<style scoped>\n",
       "    .dataframe tbody tr th:only-of-type {\n",
       "        vertical-align: middle;\n",
       "    }\n",
       "\n",
       "    .dataframe tbody tr th {\n",
       "        vertical-align: top;\n",
       "    }\n",
       "\n",
       "    .dataframe thead th {\n",
       "        text-align: right;\n",
       "    }\n",
       "</style>\n",
       "<table border=\"1\" class=\"dataframe\">\n",
       "  <thead>\n",
       "    <tr style=\"text-align: right;\">\n",
       "      <th></th>\n",
       "      <th>LB</th>\n",
       "      <th>AC</th>\n",
       "      <th>FM</th>\n",
       "      <th>UC</th>\n",
       "      <th>DL</th>\n",
       "      <th>DS</th>\n",
       "      <th>DP</th>\n",
       "      <th>ASTV</th>\n",
       "      <th>MSTV</th>\n",
       "      <th>ALTV</th>\n",
       "      <th>MLTV</th>\n",
       "      <th>Width</th>\n",
       "      <th>Tendency</th>\n",
       "      <th>NSP</th>\n",
       "    </tr>\n",
       "  </thead>\n",
       "  <tbody>\n",
       "    <tr>\n",
       "      <th>0</th>\n",
       "      <td>120.000000</td>\n",
       "      <td>0.000000</td>\n",
       "      <td>0.0</td>\n",
       "      <td>0.000000</td>\n",
       "      <td>0.000000</td>\n",
       "      <td>0.0</td>\n",
       "      <td>0.0</td>\n",
       "      <td>73.0</td>\n",
       "      <td>0.5</td>\n",
       "      <td>43.0</td>\n",
       "      <td>2.4</td>\n",
       "      <td>64.0</td>\n",
       "      <td>0.999926</td>\n",
       "      <td>2.0</td>\n",
       "    </tr>\n",
       "    <tr>\n",
       "      <th>1</th>\n",
       "      <td>132.000000</td>\n",
       "      <td>0.006380</td>\n",
       "      <td>0.0</td>\n",
       "      <td>0.006380</td>\n",
       "      <td>0.003190</td>\n",
       "      <td>0.0</td>\n",
       "      <td>0.0</td>\n",
       "      <td>17.0</td>\n",
       "      <td>2.1</td>\n",
       "      <td>0.0</td>\n",
       "      <td>10.4</td>\n",
       "      <td>130.0</td>\n",
       "      <td>0.000000</td>\n",
       "      <td>1.0</td>\n",
       "    </tr>\n",
       "    <tr>\n",
       "      <th>2</th>\n",
       "      <td>133.000000</td>\n",
       "      <td>0.003322</td>\n",
       "      <td>0.0</td>\n",
       "      <td>0.008306</td>\n",
       "      <td>0.003322</td>\n",
       "      <td>0.0</td>\n",
       "      <td>0.0</td>\n",
       "      <td>16.0</td>\n",
       "      <td>2.1</td>\n",
       "      <td>0.0</td>\n",
       "      <td>13.4</td>\n",
       "      <td>130.0</td>\n",
       "      <td>0.000000</td>\n",
       "      <td>1.0</td>\n",
       "    </tr>\n",
       "    <tr>\n",
       "      <th>3</th>\n",
       "      <td>134.000000</td>\n",
       "      <td>0.002561</td>\n",
       "      <td>0.0</td>\n",
       "      <td>0.007742</td>\n",
       "      <td>0.002561</td>\n",
       "      <td>0.0</td>\n",
       "      <td>0.0</td>\n",
       "      <td>16.0</td>\n",
       "      <td>2.4</td>\n",
       "      <td>0.0</td>\n",
       "      <td>23.0</td>\n",
       "      <td>117.0</td>\n",
       "      <td>1.000000</td>\n",
       "      <td>1.0</td>\n",
       "    </tr>\n",
       "    <tr>\n",
       "      <th>4</th>\n",
       "      <td>131.948232</td>\n",
       "      <td>0.006515</td>\n",
       "      <td>0.0</td>\n",
       "      <td>0.008143</td>\n",
       "      <td>0.000000</td>\n",
       "      <td>0.0</td>\n",
       "      <td>0.0</td>\n",
       "      <td>16.0</td>\n",
       "      <td>2.4</td>\n",
       "      <td>0.0</td>\n",
       "      <td>19.9</td>\n",
       "      <td>117.0</td>\n",
       "      <td>1.000000</td>\n",
       "      <td>1.0</td>\n",
       "    </tr>\n",
       "  </tbody>\n",
       "</table>\n",
       "</div>"
      ],
      "text/plain": [
       "           LB        AC   FM        UC        DL   DS   DP  ASTV  MSTV  ALTV  \\\n",
       "0  120.000000  0.000000  0.0  0.000000  0.000000  0.0  0.0  73.0   0.5  43.0   \n",
       "1  132.000000  0.006380  0.0  0.006380  0.003190  0.0  0.0  17.0   2.1   0.0   \n",
       "2  133.000000  0.003322  0.0  0.008306  0.003322  0.0  0.0  16.0   2.1   0.0   \n",
       "3  134.000000  0.002561  0.0  0.007742  0.002561  0.0  0.0  16.0   2.4   0.0   \n",
       "4  131.948232  0.006515  0.0  0.008143  0.000000  0.0  0.0  16.0   2.4   0.0   \n",
       "\n",
       "   MLTV  Width  Tendency  NSP  \n",
       "0   2.4   64.0  0.999926  2.0  \n",
       "1  10.4  130.0  0.000000  1.0  \n",
       "2  13.4  130.0  0.000000  1.0  \n",
       "3  23.0  117.0  1.000000  1.0  \n",
       "4  19.9  117.0  1.000000  1.0  "
      ]
     },
     "execution_count": 3,
     "metadata": {},
     "output_type": "execute_result"
    }
   ],
   "source": [
    "data.head()"
   ]
  },
  {
   "cell_type": "markdown",
   "id": "c77a21a8",
   "metadata": {},
   "source": [
    "## EDA 1 process - missing values"
   ]
  },
  {
   "cell_type": "code",
   "execution_count": 4,
   "id": "298eb788",
   "metadata": {},
   "outputs": [
    {
     "data": {
      "text/plain": [
       "LB          21\n",
       "AC          20\n",
       "FM           0\n",
       "UC           0\n",
       "DL           0\n",
       "DS          21\n",
       "DP          21\n",
       "ASTV         0\n",
       "MSTV         0\n",
       "ALTV         0\n",
       "MLTV        21\n",
       "Width       21\n",
       "Tendency    21\n",
       "NSP         21\n",
       "dtype: int64"
      ]
     },
     "execution_count": 4,
     "metadata": {},
     "output_type": "execute_result"
    }
   ],
   "source": [
    "data.isnull().sum()"
   ]
  },
  {
   "cell_type": "code",
   "execution_count": 5,
   "id": "12b242bc",
   "metadata": {},
   "outputs": [],
   "source": [
    "data['LB']=data['LB'].fillna(data['LB'].mean())"
   ]
  },
  {
   "cell_type": "code",
   "execution_count": 6,
   "id": "cbb8abcf",
   "metadata": {},
   "outputs": [
    {
     "data": {
      "text/plain": [
       "LB           0\n",
       "AC          20\n",
       "FM           0\n",
       "UC           0\n",
       "DL           0\n",
       "DS          21\n",
       "DP          21\n",
       "ASTV         0\n",
       "MSTV         0\n",
       "ALTV         0\n",
       "MLTV        21\n",
       "Width       21\n",
       "Tendency    21\n",
       "NSP         21\n",
       "dtype: int64"
      ]
     },
     "execution_count": 6,
     "metadata": {},
     "output_type": "execute_result"
    }
   ],
   "source": [
    "data.isnull().sum()"
   ]
  },
  {
   "cell_type": "code",
   "execution_count": 7,
   "id": "7772ab66",
   "metadata": {},
   "outputs": [],
   "source": [
    "data['AC']=data['AC'].fillna(data['AC'].mean())"
   ]
  },
  {
   "cell_type": "code",
   "execution_count": 8,
   "id": "f012a418",
   "metadata": {},
   "outputs": [],
   "source": [
    "data['DS']=data['DS'].fillna(data['DS'].mean())"
   ]
  },
  {
   "cell_type": "code",
   "execution_count": 9,
   "id": "e7cd0bb4",
   "metadata": {},
   "outputs": [],
   "source": [
    "data['DP']=data['DP'].fillna(data['DP'].mean())"
   ]
  },
  {
   "cell_type": "code",
   "execution_count": 10,
   "id": "3ae5ff1d",
   "metadata": {},
   "outputs": [],
   "source": [
    "data['MLTV']=data['MLTV'].fillna(data['MLTV'].mean())"
   ]
  },
  {
   "cell_type": "code",
   "execution_count": 11,
   "id": "7ec338cf",
   "metadata": {},
   "outputs": [],
   "source": [
    "data['Width']=data['Width'].fillna(data['Width'].mean())"
   ]
  },
  {
   "cell_type": "code",
   "execution_count": 12,
   "id": "680ad242",
   "metadata": {},
   "outputs": [],
   "source": [
    "data['Tendency']=data['Tendency'].fillna(data['Tendency'].mean())"
   ]
  },
  {
   "cell_type": "code",
   "execution_count": 49,
   "id": "765b4978",
   "metadata": {},
   "outputs": [],
   "source": [
    "data['NSP']=data['NSP'].fillna(data['NSP'].mode())"
   ]
  },
  {
   "cell_type": "markdown",
   "id": "b4e2fa1a",
   "metadata": {},
   "source": [
    "## Duplicates"
   ]
  },
  {
   "cell_type": "code",
   "execution_count": 14,
   "id": "d7615e87",
   "metadata": {},
   "outputs": [
    {
     "data": {
      "text/plain": [
       "2"
      ]
     },
     "execution_count": 14,
     "metadata": {},
     "output_type": "execute_result"
    }
   ],
   "source": [
    "data.duplicated().sum()"
   ]
  },
  {
   "cell_type": "code",
   "execution_count": 15,
   "id": "8b3c89c1",
   "metadata": {},
   "outputs": [
    {
     "data": {
      "text/plain": [
       "0       False\n",
       "1       False\n",
       "2       False\n",
       "3       False\n",
       "4       False\n",
       "        ...  \n",
       "2121    False\n",
       "2122    False\n",
       "2123    False\n",
       "2124    False\n",
       "2125    False\n",
       "Length: 2126, dtype: bool"
      ]
     },
     "execution_count": 15,
     "metadata": {},
     "output_type": "execute_result"
    }
   ],
   "source": [
    "data.duplicated()"
   ]
  },
  {
   "cell_type": "code",
   "execution_count": 16,
   "id": "3e690cb2",
   "metadata": {},
   "outputs": [],
   "source": [
    "data.drop_duplicates(inplace=True,ignore_index=True)"
   ]
  },
  {
   "cell_type": "code",
   "execution_count": 20,
   "id": "5249557f",
   "metadata": {},
   "outputs": [
    {
     "data": {
      "text/plain": [
       "0"
      ]
     },
     "execution_count": 20,
     "metadata": {},
     "output_type": "execute_result"
    }
   ],
   "source": [
    "data.duplicated().sum()"
   ]
  },
  {
   "cell_type": "code",
   "execution_count": null,
   "id": "0dc26631",
   "metadata": {},
   "outputs": [],
   "source": [
    "## mean"
   ]
  },
  {
   "cell_type": "code",
   "execution_count": 35,
   "id": "b81fdbd6",
   "metadata": {},
   "outputs": [
    {
     "data": {
      "text/plain": [
       "133.34203865480455"
      ]
     },
     "execution_count": 35,
     "metadata": {},
     "output_type": "execute_result"
    }
   ],
   "source": [
    "mean_lb=data['LB'].mean()\n",
    "mean_lb"
   ]
  },
  {
   "cell_type": "code",
   "execution_count": 36,
   "id": "99df4f4c",
   "metadata": {},
   "outputs": [
    {
     "data": {
      "text/plain": [
       "0.003219788495912853"
      ]
     },
     "execution_count": 36,
     "metadata": {},
     "output_type": "execute_result"
    }
   ],
   "source": [
    "mean_ac=data['AC'].mean()\n",
    "mean_ac"
   ]
  },
  {
   "cell_type": "code",
   "execution_count": 37,
   "id": "39106044",
   "metadata": {},
   "outputs": [
    {
     "data": {
      "text/plain": [
       "0.009903801014186437"
      ]
     },
     "execution_count": 37,
     "metadata": {},
     "output_type": "execute_result"
    }
   ],
   "source": [
    "mean_fm=data['FM'].mean()\n",
    "mean_fm"
   ]
  },
  {
   "cell_type": "code",
   "execution_count": 38,
   "id": "ca573b61",
   "metadata": {},
   "outputs": [
    {
     "data": {
      "text/plain": [
       "0.004393639313562135"
      ]
     },
     "execution_count": 38,
     "metadata": {},
     "output_type": "execute_result"
    }
   ],
   "source": [
    "mean_uc=data['UC'].mean()\n",
    "mean_uc"
   ]
  },
  {
   "cell_type": "code",
   "execution_count": 39,
   "id": "4ba1e2bd",
   "metadata": {},
   "outputs": [
    {
     "data": {
      "text/plain": [
       "0.0018971294572578793"
      ]
     },
     "execution_count": 39,
     "metadata": {},
     "output_type": "execute_result"
    }
   ],
   "source": [
    "mean_dl=data['DL'].mean()\n",
    "mean_dl"
   ]
  },
  {
   "cell_type": "code",
   "execution_count": 40,
   "id": "6be8ed3e",
   "metadata": {},
   "outputs": [
    {
     "data": {
      "text/plain": [
       "2.5113460137194265e-06"
      ]
     },
     "execution_count": 40,
     "metadata": {},
     "output_type": "execute_result"
    }
   ],
   "source": [
    "mean_ds=data['DS'].mean()\n",
    "mean_ds"
   ]
  },
  {
   "cell_type": "code",
   "execution_count": 41,
   "id": "3cac0b4c",
   "metadata": {},
   "outputs": [
    {
     "data": {
      "text/plain": [
       "0.00017531613755778424"
      ]
     },
     "execution_count": 41,
     "metadata": {},
     "output_type": "execute_result"
    }
   ],
   "source": [
    "mean_dp=data['DP'].mean()\n",
    "mean_dp"
   ]
  },
  {
   "cell_type": "code",
   "execution_count": 42,
   "id": "d384bbd2",
   "metadata": {},
   "outputs": [
    {
     "data": {
      "text/plain": [
       "47.01245871631117"
      ]
     },
     "execution_count": 42,
     "metadata": {},
     "output_type": "execute_result"
    }
   ],
   "source": [
    "mean_astv=data['ASTV'].mean()\n",
    "mean_astv"
   ]
  },
  {
   "cell_type": "code",
   "execution_count": 43,
   "id": "0b1f4c71",
   "metadata": {},
   "outputs": [
    {
     "data": {
      "text/plain": [
       "1.3643448094373316"
      ]
     },
     "execution_count": 43,
     "metadata": {},
     "output_type": "execute_result"
    }
   ],
   "source": [
    "mean_mstv=data['MSTV'].mean()\n",
    "mean_mstv"
   ]
  },
  {
   "cell_type": "code",
   "execution_count": 44,
   "id": "ce1576ec",
   "metadata": {},
   "outputs": [
    {
     "data": {
      "text/plain": [
       "10.295649531655464"
      ]
     },
     "execution_count": 44,
     "metadata": {},
     "output_type": "execute_result"
    }
   ],
   "source": [
    "mean_altv=data['ALTV'].mean()\n",
    "mean_altv"
   ]
  },
  {
   "cell_type": "code",
   "execution_count": 45,
   "id": "68f85e1e",
   "metadata": {},
   "outputs": [
    {
     "data": {
      "text/plain": [
       "8.280588827653663"
      ]
     },
     "execution_count": 45,
     "metadata": {},
     "output_type": "execute_result"
    }
   ],
   "source": [
    "mean_mltv=data['MLTV'].mean()\n",
    "mean_mltv"
   ]
  },
  {
   "cell_type": "code",
   "execution_count": 46,
   "id": "78c3e5d8",
   "metadata": {},
   "outputs": [
    {
     "data": {
      "text/plain": [
       "70.46073814053548"
      ]
     },
     "execution_count": 46,
     "metadata": {},
     "output_type": "execute_result"
    }
   ],
   "source": [
    "mean_width=data['Width'].mean()\n",
    "mean_width"
   ]
  },
  {
   "cell_type": "code",
   "execution_count": 47,
   "id": "ca7e5ba1",
   "metadata": {},
   "outputs": [
    {
     "data": {
      "text/plain": [
       "0.31666930538048293"
      ]
     },
     "execution_count": 47,
     "metadata": {},
     "output_type": "execute_result"
    }
   ],
   "source": [
    "mean_tendency=data['Tendency'].mean()\n",
    "mean_tendency"
   ]
  },
  {
   "cell_type": "code",
   "execution_count": 48,
   "id": "0e87eeff",
   "metadata": {},
   "outputs": [
    {
     "data": {
      "text/plain": [
       "1.3047939050310293"
      ]
     },
     "execution_count": 48,
     "metadata": {},
     "output_type": "execute_result"
    }
   ],
   "source": [
    "mean_nsp=data['NSP'].mean()\n",
    "mean_nsp"
   ]
  },
  {
   "cell_type": "markdown",
   "id": "54c49e91",
   "metadata": {},
   "source": [
    "## Outliers"
   ]
  },
  {
   "cell_type": "code",
   "execution_count": 24,
   "id": "da959fba",
   "metadata": {},
   "outputs": [
    {
     "data": {
      "text/plain": [
       "<Axes: >"
      ]
     },
     "execution_count": 24,
     "metadata": {},
     "output_type": "execute_result"
    },
    {
     "data": {
      "image/png": "[encoded data removed]",
      "text/plain": [
       "<Figure size 640x480 with 1 Axes>"
      ]
     },
     "metadata": {},
     "output_type": "display_data"
    }
   ],
   "source": [
    "sns.boxplot(data['LB'])"
   ]
  },
  {
   "cell_type": "code",
   "execution_count": 51,
   "id": "97d50746",
   "metadata": {},
   "outputs": [
    {
     "data": {
      "text/html": [
       "<div>\n",
       "<style scoped>\n",
       "    .dataframe tbody tr th:only-of-type {\n",
       "        vertical-align: middle;\n",
       "    }\n",
       "\n",
       "    .dataframe tbody tr th {\n",
       "        vertical-align: top;\n",
       "    }\n",
       "\n",
       "    .dataframe thead th {\n",
       "        text-align: right;\n",
       "    }\n",
       "</style>\n",
       "<table border=\"1\" class=\"dataframe\">\n",
       "  <thead>\n",
       "    <tr style=\"text-align: right;\">\n",
       "      <th></th>\n",
       "      <th>LB</th>\n",
       "      <th>AC</th>\n",
       "      <th>FM</th>\n",
       "      <th>UC</th>\n",
       "      <th>DL</th>\n",
       "      <th>DS</th>\n",
       "      <th>DP</th>\n",
       "      <th>ASTV</th>\n",
       "      <th>MSTV</th>\n",
       "      <th>ALTV</th>\n",
       "      <th>MLTV</th>\n",
       "      <th>Width</th>\n",
       "      <th>Tendency</th>\n",
       "      <th>NSP</th>\n",
       "    </tr>\n",
       "  </thead>\n",
       "  <tbody>\n",
       "    <tr>\n",
       "      <th>0</th>\n",
       "      <td>120.000000</td>\n",
       "      <td>0.000000</td>\n",
       "      <td>0.0</td>\n",
       "      <td>0.000000</td>\n",
       "      <td>0.000000</td>\n",
       "      <td>0.0</td>\n",
       "      <td>0.0</td>\n",
       "      <td>73.0</td>\n",
       "      <td>0.5</td>\n",
       "      <td>43.0</td>\n",
       "      <td>2.4</td>\n",
       "      <td>64.0</td>\n",
       "      <td>0.999926</td>\n",
       "      <td>2.0</td>\n",
       "    </tr>\n",
       "    <tr>\n",
       "      <th>1</th>\n",
       "      <td>132.000000</td>\n",
       "      <td>0.006380</td>\n",
       "      <td>0.0</td>\n",
       "      <td>0.006380</td>\n",
       "      <td>0.003190</td>\n",
       "      <td>0.0</td>\n",
       "      <td>0.0</td>\n",
       "      <td>17.0</td>\n",
       "      <td>2.1</td>\n",
       "      <td>0.0</td>\n",
       "      <td>10.4</td>\n",
       "      <td>130.0</td>\n",
       "      <td>0.000000</td>\n",
       "      <td>1.0</td>\n",
       "    </tr>\n",
       "    <tr>\n",
       "      <th>2</th>\n",
       "      <td>133.000000</td>\n",
       "      <td>0.003322</td>\n",
       "      <td>0.0</td>\n",
       "      <td>0.008306</td>\n",
       "      <td>0.003322</td>\n",
       "      <td>0.0</td>\n",
       "      <td>0.0</td>\n",
       "      <td>16.0</td>\n",
       "      <td>2.1</td>\n",
       "      <td>0.0</td>\n",
       "      <td>13.4</td>\n",
       "      <td>130.0</td>\n",
       "      <td>0.000000</td>\n",
       "      <td>1.0</td>\n",
       "    </tr>\n",
       "    <tr>\n",
       "      <th>3</th>\n",
       "      <td>134.000000</td>\n",
       "      <td>0.002561</td>\n",
       "      <td>0.0</td>\n",
       "      <td>0.007742</td>\n",
       "      <td>0.002561</td>\n",
       "      <td>0.0</td>\n",
       "      <td>0.0</td>\n",
       "      <td>16.0</td>\n",
       "      <td>2.4</td>\n",
       "      <td>0.0</td>\n",
       "      <td>23.0</td>\n",
       "      <td>117.0</td>\n",
       "      <td>1.000000</td>\n",
       "      <td>1.0</td>\n",
       "    </tr>\n",
       "    <tr>\n",
       "      <th>4</th>\n",
       "      <td>131.948232</td>\n",
       "      <td>0.006515</td>\n",
       "      <td>0.0</td>\n",
       "      <td>0.008143</td>\n",
       "      <td>0.000000</td>\n",
       "      <td>0.0</td>\n",
       "      <td>0.0</td>\n",
       "      <td>16.0</td>\n",
       "      <td>2.4</td>\n",
       "      <td>0.0</td>\n",
       "      <td>19.9</td>\n",
       "      <td>117.0</td>\n",
       "      <td>1.000000</td>\n",
       "      <td>1.0</td>\n",
       "    </tr>\n",
       "  </tbody>\n",
       "</table>\n",
       "</div>"
      ],
      "text/plain": [
       "           LB        AC   FM        UC        DL   DS   DP  ASTV  MSTV  ALTV  \\\n",
       "0  120.000000  0.000000  0.0  0.000000  0.000000  0.0  0.0  73.0   0.5  43.0   \n",
       "1  132.000000  0.006380  0.0  0.006380  0.003190  0.0  0.0  17.0   2.1   0.0   \n",
       "2  133.000000  0.003322  0.0  0.008306  0.003322  0.0  0.0  16.0   2.1   0.0   \n",
       "3  134.000000  0.002561  0.0  0.007742  0.002561  0.0  0.0  16.0   2.4   0.0   \n",
       "4  131.948232  0.006515  0.0  0.008143  0.000000  0.0  0.0  16.0   2.4   0.0   \n",
       "\n",
       "   MLTV  Width  Tendency  NSP  \n",
       "0   2.4   64.0  0.999926  2.0  \n",
       "1  10.4  130.0  0.000000  1.0  \n",
       "2  13.4  130.0  0.000000  1.0  \n",
       "3  23.0  117.0  1.000000  1.0  \n",
       "4  19.9  117.0  1.000000  1.0  "
      ]
     },
     "execution_count": 51,
     "metadata": {},
     "output_type": "execute_result"
    }
   ],
   "source": [
    "data.head()"
   ]
  },
  {
   "cell_type": "code",
   "execution_count": 53,
   "id": "586b82b5",
   "metadata": {},
   "outputs": [
    {
     "data": {
      "text/plain": [
       "(2124, 14)"
      ]
     },
     "execution_count": 53,
     "metadata": {},
     "output_type": "execute_result"
    }
   ],
   "source": [
    "data.shape"
   ]
  },
  {
   "cell_type": "code",
   "execution_count": 58,
   "id": "d29ba06a",
   "metadata": {},
   "outputs": [
    {
     "data": {
      "text/plain": [
       "<BarContainer object of 2 artists>"
      ]
     },
     "execution_count": 58,
     "metadata": {},
     "output_type": "execute_result"
    },
    {
     "data": {
      "image/png": "[encoded data removed]",
      "text/plain": [
       "<Figure size 640x480 with 1 Axes>"
      ]
     },
     "metadata": {},
     "output_type": "display_data"
    }
   ],
   "source": [
    "plt.bar(['LB','Width'],[mean_lb,mean_width],color=['red','blue'])"
   ]
  },
  {
   "cell_type": "code",
   "execution_count": null,
   "id": "ce568ef8",
   "metadata": {},
   "outputs": [],
   "source": []
  },
  {
   "cell_type": "code",
   "execution_count": 29,
   "id": "fb59e529",
   "metadata": {},
   "outputs": [
    {
     "data": {
      "text/html": [
       "<div>\n",
       "<style scoped>\n",
       "    .dataframe tbody tr th:only-of-type {\n",
       "        vertical-align: middle;\n",
       "    }\n",
       "\n",
       "    .dataframe tbody tr th {\n",
       "        vertical-align: top;\n",
       "    }\n",
       "\n",
       "    .dataframe thead th {\n",
       "        text-align: right;\n",
       "    }\n",
       "</style>\n",
       "<table border=\"1\" class=\"dataframe\">\n",
       "  <thead>\n",
       "    <tr style=\"text-align: right;\">\n",
       "      <th></th>\n",
       "      <th>LB</th>\n",
       "      <th>AC</th>\n",
       "      <th>FM</th>\n",
       "      <th>UC</th>\n",
       "      <th>DL</th>\n",
       "      <th>DS</th>\n",
       "      <th>DP</th>\n",
       "      <th>ASTV</th>\n",
       "      <th>MSTV</th>\n",
       "      <th>ALTV</th>\n",
       "      <th>MLTV</th>\n",
       "      <th>Width</th>\n",
       "      <th>Tendency</th>\n",
       "      <th>NSP</th>\n",
       "    </tr>\n",
       "  </thead>\n",
       "  <tbody>\n",
       "    <tr>\n",
       "      <th>411</th>\n",
       "      <td>214.0</td>\n",
       "      <td>0.000000</td>\n",
       "      <td>0.000000</td>\n",
       "      <td>0.001595</td>\n",
       "      <td>0.001595</td>\n",
       "      <td>0.000000</td>\n",
       "      <td>0.0</td>\n",
       "      <td>71.000000</td>\n",
       "      <td>0.300000</td>\n",
       "      <td>17.0</td>\n",
       "      <td>5.8</td>\n",
       "      <td>15.0</td>\n",
       "      <td>0.0</td>\n",
       "      <td>2.0000</td>\n",
       "    </tr>\n",
       "    <tr>\n",
       "      <th>610</th>\n",
       "      <td>214.0</td>\n",
       "      <td>0.002469</td>\n",
       "      <td>0.002469</td>\n",
       "      <td>0.002469</td>\n",
       "      <td>0.000000</td>\n",
       "      <td>0.000004</td>\n",
       "      <td>0.0</td>\n",
       "      <td>35.000000</td>\n",
       "      <td>1.798149</td>\n",
       "      <td>0.0</td>\n",
       "      <td>24.7</td>\n",
       "      <td>118.0</td>\n",
       "      <td>1.0</td>\n",
       "      <td>1.0000</td>\n",
       "    </tr>\n",
       "    <tr>\n",
       "      <th>612</th>\n",
       "      <td>214.0</td>\n",
       "      <td>0.005181</td>\n",
       "      <td>0.012953</td>\n",
       "      <td>0.002591</td>\n",
       "      <td>0.000000</td>\n",
       "      <td>0.000000</td>\n",
       "      <td>0.0</td>\n",
       "      <td>39.442226</td>\n",
       "      <td>1.600000</td>\n",
       "      <td>0.0</td>\n",
       "      <td>10.0</td>\n",
       "      <td>136.0</td>\n",
       "      <td>0.0</td>\n",
       "      <td>0.9912</td>\n",
       "    </tr>\n",
       "    <tr>\n",
       "      <th>1103</th>\n",
       "      <td>214.0</td>\n",
       "      <td>0.006972</td>\n",
       "      <td>0.000000</td>\n",
       "      <td>0.002960</td>\n",
       "      <td>0.000000</td>\n",
       "      <td>0.000000</td>\n",
       "      <td>0.0</td>\n",
       "      <td>19.000000</td>\n",
       "      <td>2.300000</td>\n",
       "      <td>0.0</td>\n",
       "      <td>12.1</td>\n",
       "      <td>53.0</td>\n",
       "      <td>0.0</td>\n",
       "      <td>1.0000</td>\n",
       "    </tr>\n",
       "    <tr>\n",
       "      <th>1405</th>\n",
       "      <td>214.0</td>\n",
       "      <td>0.005068</td>\n",
       "      <td>0.000000</td>\n",
       "      <td>0.001689</td>\n",
       "      <td>0.000000</td>\n",
       "      <td>0.000000</td>\n",
       "      <td>0.0</td>\n",
       "      <td>46.000000</td>\n",
       "      <td>0.800000</td>\n",
       "      <td>0.0</td>\n",
       "      <td>8.6</td>\n",
       "      <td>67.0</td>\n",
       "      <td>1.0</td>\n",
       "      <td>1.0000</td>\n",
       "    </tr>\n",
       "    <tr>\n",
       "      <th>1502</th>\n",
       "      <td>214.0</td>\n",
       "      <td>0.006189</td>\n",
       "      <td>0.000000</td>\n",
       "      <td>0.006189</td>\n",
       "      <td>0.000000</td>\n",
       "      <td>0.000000</td>\n",
       "      <td>0.0</td>\n",
       "      <td>38.000000</td>\n",
       "      <td>1.000000</td>\n",
       "      <td>0.0</td>\n",
       "      <td>8.1</td>\n",
       "      <td>53.0</td>\n",
       "      <td>0.0</td>\n",
       "      <td>1.0000</td>\n",
       "    </tr>\n",
       "  </tbody>\n",
       "</table>\n",
       "</div>"
      ],
      "text/plain": [
       "         LB        AC        FM        UC        DL        DS   DP       ASTV  \\\n",
       "411   214.0  0.000000  0.000000  0.001595  0.001595  0.000000  0.0  71.000000   \n",
       "610   214.0  0.002469  0.002469  0.002469  0.000000  0.000004  0.0  35.000000   \n",
       "612   214.0  0.005181  0.012953  0.002591  0.000000  0.000000  0.0  39.442226   \n",
       "1103  214.0  0.006972  0.000000  0.002960  0.000000  0.000000  0.0  19.000000   \n",
       "1405  214.0  0.005068  0.000000  0.001689  0.000000  0.000000  0.0  46.000000   \n",
       "1502  214.0  0.006189  0.000000  0.006189  0.000000  0.000000  0.0  38.000000   \n",
       "\n",
       "          MSTV  ALTV  MLTV  Width  Tendency     NSP  \n",
       "411   0.300000  17.0   5.8   15.0       0.0  2.0000  \n",
       "610   1.798149   0.0  24.7  118.0       1.0  1.0000  \n",
       "612   1.600000   0.0  10.0  136.0       0.0  0.9912  \n",
       "1103  2.300000   0.0  12.1   53.0       0.0  1.0000  \n",
       "1405  0.800000   0.0   8.6   67.0       1.0  1.0000  \n",
       "1502  1.000000   0.0   8.1   53.0       0.0  1.0000  "
      ]
     },
     "execution_count": 29,
     "metadata": {},
     "output_type": "execute_result"
    }
   ],
   "source": [
    "data[data['LB']>200 ]"
   ]
  },
  {
   "cell_type": "markdown",
   "id": "b1160294",
   "metadata": {},
   "source": [
    "## These are upper extreme outliers"
   ]
  },
  {
   "cell_type": "code",
   "execution_count": 30,
   "id": "78b42fdd",
   "metadata": {},
   "outputs": [
    {
     "data": {
      "text/html": [
       "<div>\n",
       "<style scoped>\n",
       "    .dataframe tbody tr th:only-of-type {\n",
       "        vertical-align: middle;\n",
       "    }\n",
       "\n",
       "    .dataframe tbody tr th {\n",
       "        vertical-align: top;\n",
       "    }\n",
       "\n",
       "    .dataframe thead th {\n",
       "        text-align: right;\n",
       "    }\n",
       "</style>\n",
       "<table border=\"1\" class=\"dataframe\">\n",
       "  <thead>\n",
       "    <tr style=\"text-align: right;\">\n",
       "      <th></th>\n",
       "      <th>LB</th>\n",
       "      <th>AC</th>\n",
       "      <th>FM</th>\n",
       "      <th>UC</th>\n",
       "      <th>DL</th>\n",
       "      <th>DS</th>\n",
       "      <th>DP</th>\n",
       "      <th>ASTV</th>\n",
       "      <th>MSTV</th>\n",
       "      <th>ALTV</th>\n",
       "      <th>MLTV</th>\n",
       "      <th>Width</th>\n",
       "      <th>Tendency</th>\n",
       "      <th>NSP</th>\n",
       "    </tr>\n",
       "  </thead>\n",
       "  <tbody>\n",
       "    <tr>\n",
       "      <th>134</th>\n",
       "      <td>52.000000</td>\n",
       "      <td>0.001590</td>\n",
       "      <td>0.000000</td>\n",
       "      <td>0.029851</td>\n",
       "      <td>0.000000</td>\n",
       "      <td>0.000000</td>\n",
       "      <td>0.000003</td>\n",
       "      <td>58.0</td>\n",
       "      <td>0.5</td>\n",
       "      <td>0.0</td>\n",
       "      <td>7.9</td>\n",
       "      <td>44.00000</td>\n",
       "      <td>1.0</td>\n",
       "      <td>1.0</td>\n",
       "    </tr>\n",
       "    <tr>\n",
       "      <th>785</th>\n",
       "      <td>52.000000</td>\n",
       "      <td>0.000834</td>\n",
       "      <td>0.013344</td>\n",
       "      <td>0.000000</td>\n",
       "      <td>0.000000</td>\n",
       "      <td>0.000000</td>\n",
       "      <td>0.000000</td>\n",
       "      <td>53.0</td>\n",
       "      <td>0.7</td>\n",
       "      <td>8.0</td>\n",
       "      <td>12.0</td>\n",
       "      <td>77.00000</td>\n",
       "      <td>1.0</td>\n",
       "      <td>1.0</td>\n",
       "    </tr>\n",
       "    <tr>\n",
       "      <th>1027</th>\n",
       "      <td>51.842487</td>\n",
       "      <td>0.009485</td>\n",
       "      <td>0.000000</td>\n",
       "      <td>0.005420</td>\n",
       "      <td>0.002710</td>\n",
       "      <td>0.000005</td>\n",
       "      <td>0.000000</td>\n",
       "      <td>-63.0</td>\n",
       "      <td>2.5</td>\n",
       "      <td>0.0</td>\n",
       "      <td>3.9</td>\n",
       "      <td>98.00000</td>\n",
       "      <td>0.0</td>\n",
       "      <td>1.0</td>\n",
       "    </tr>\n",
       "    <tr>\n",
       "      <th>1832</th>\n",
       "      <td>52.188547</td>\n",
       "      <td>0.000000</td>\n",
       "      <td>0.001043</td>\n",
       "      <td>0.003128</td>\n",
       "      <td>0.007299</td>\n",
       "      <td>0.000000</td>\n",
       "      <td>0.000000</td>\n",
       "      <td>61.0</td>\n",
       "      <td>1.4</td>\n",
       "      <td>0.0</td>\n",
       "      <td>10.0</td>\n",
       "      <td>105.40169</td>\n",
       "      <td>1.0</td>\n",
       "      <td>1.0</td>\n",
       "    </tr>\n",
       "  </tbody>\n",
       "</table>\n",
       "</div>"
      ],
      "text/plain": [
       "             LB        AC        FM        UC        DL        DS        DP  \\\n",
       "134   52.000000  0.001590  0.000000  0.029851  0.000000  0.000000  0.000003   \n",
       "785   52.000000  0.000834  0.013344  0.000000  0.000000  0.000000  0.000000   \n",
       "1027  51.842487  0.009485  0.000000  0.005420  0.002710  0.000005  0.000000   \n",
       "1832  52.188547  0.000000  0.001043  0.003128  0.007299  0.000000  0.000000   \n",
       "\n",
       "      ASTV  MSTV  ALTV  MLTV      Width  Tendency  NSP  \n",
       "134   58.0   0.5   0.0   7.9   44.00000       1.0  1.0  \n",
       "785   53.0   0.7   8.0  12.0   77.00000       1.0  1.0  \n",
       "1027 -63.0   2.5   0.0   3.9   98.00000       0.0  1.0  \n",
       "1832  61.0   1.4   0.0  10.0  105.40169       1.0  1.0  "
      ]
     },
     "execution_count": 30,
     "metadata": {},
     "output_type": "execute_result"
    }
   ],
   "source": [
    "data[data['LB']<60]"
   ]
  },
  {
   "cell_type": "markdown",
   "id": "c8bb9030",
   "metadata": {},
   "source": [
    "## these are lower extreme outliers"
   ]
  },
  {
   "cell_type": "markdown",
   "id": "c6664818",
   "metadata": {},
   "source": [
    "## Covariance and Correlations"
   ]
  },
  {
   "cell_type": "code",
   "execution_count": 31,
   "id": "9e00d493",
   "metadata": {},
   "outputs": [
    {
     "data": {
      "text/html": [
       "<div>\n",
       "<style scoped>\n",
       "    .dataframe tbody tr th:only-of-type {\n",
       "        vertical-align: middle;\n",
       "    }\n",
       "\n",
       "    .dataframe tbody tr th {\n",
       "        vertical-align: top;\n",
       "    }\n",
       "\n",
       "    .dataframe thead th {\n",
       "        text-align: right;\n",
       "    }\n",
       "</style>\n",
       "<table border=\"1\" class=\"dataframe\">\n",
       "  <thead>\n",
       "    <tr style=\"text-align: right;\">\n",
       "      <th></th>\n",
       "      <th>UC</th>\n",
       "      <th>DL</th>\n",
       "    </tr>\n",
       "  </thead>\n",
       "  <tbody>\n",
       "    <tr>\n",
       "      <th>UC</th>\n",
       "      <td>1.000000</td>\n",
       "      <td>0.189737</td>\n",
       "    </tr>\n",
       "    <tr>\n",
       "      <th>DL</th>\n",
       "      <td>0.189737</td>\n",
       "      <td>1.000000</td>\n",
       "    </tr>\n",
       "  </tbody>\n",
       "</table>\n",
       "</div>"
      ],
      "text/plain": [
       "          UC        DL\n",
       "UC  1.000000  0.189737\n",
       "DL  0.189737  1.000000"
      ]
     },
     "execution_count": 31,
     "metadata": {},
     "output_type": "execute_result"
    }
   ],
   "source": [
    "data[['UC','DL']].corr()"
   ]
  },
  {
   "cell_type": "markdown",
   "id": "64379f50",
   "metadata": {},
   "source": [
    "## DL is positively correlated to UC"
   ]
  },
  {
   "cell_type": "code",
   "execution_count": 32,
   "id": "e301eaa8",
   "metadata": {},
   "outputs": [
    {
     "data": {
      "text/html": [
       "<div>\n",
       "<style scoped>\n",
       "    .dataframe tbody tr th:only-of-type {\n",
       "        vertical-align: middle;\n",
       "    }\n",
       "\n",
       "    .dataframe tbody tr th {\n",
       "        vertical-align: top;\n",
       "    }\n",
       "\n",
       "    .dataframe thead th {\n",
       "        text-align: right;\n",
       "    }\n",
       "</style>\n",
       "<table border=\"1\" class=\"dataframe\">\n",
       "  <thead>\n",
       "    <tr style=\"text-align: right;\">\n",
       "      <th></th>\n",
       "      <th>AC</th>\n",
       "      <th>DL</th>\n",
       "    </tr>\n",
       "  </thead>\n",
       "  <tbody>\n",
       "    <tr>\n",
       "      <th>AC</th>\n",
       "      <td>1.00000</td>\n",
       "      <td>-0.09333</td>\n",
       "    </tr>\n",
       "    <tr>\n",
       "      <th>DL</th>\n",
       "      <td>-0.09333</td>\n",
       "      <td>1.00000</td>\n",
       "    </tr>\n",
       "  </tbody>\n",
       "</table>\n",
       "</div>"
      ],
      "text/plain": [
       "         AC       DL\n",
       "AC  1.00000 -0.09333\n",
       "DL -0.09333  1.00000"
      ]
     },
     "execution_count": 32,
     "metadata": {},
     "output_type": "execute_result"
    }
   ],
   "source": [
    "data[['AC','DL']].corr()"
   ]
  },
  {
   "cell_type": "markdown",
   "id": "3edadf92",
   "metadata": {},
   "source": [
    "### DL is negatively corrrelated to AC"
   ]
  },
  {
   "cell_type": "code",
   "execution_count": 33,
   "id": "84d8d489",
   "metadata": {},
   "outputs": [
    {
     "data": {
      "text/html": [
       "<div>\n",
       "<style scoped>\n",
       "    .dataframe tbody tr th:only-of-type {\n",
       "        vertical-align: middle;\n",
       "    }\n",
       "\n",
       "    .dataframe tbody tr th {\n",
       "        vertical-align: top;\n",
       "    }\n",
       "\n",
       "    .dataframe thead th {\n",
       "        text-align: right;\n",
       "    }\n",
       "</style>\n",
       "<table border=\"1\" class=\"dataframe\">\n",
       "  <thead>\n",
       "    <tr style=\"text-align: right;\">\n",
       "      <th></th>\n",
       "      <th>AC</th>\n",
       "      <th>ASTV</th>\n",
       "    </tr>\n",
       "  </thead>\n",
       "  <tbody>\n",
       "    <tr>\n",
       "      <th>AC</th>\n",
       "      <td>1.000000</td>\n",
       "      <td>-0.231059</td>\n",
       "    </tr>\n",
       "    <tr>\n",
       "      <th>ASTV</th>\n",
       "      <td>-0.231059</td>\n",
       "      <td>1.000000</td>\n",
       "    </tr>\n",
       "  </tbody>\n",
       "</table>\n",
       "</div>"
      ],
      "text/plain": [
       "            AC      ASTV\n",
       "AC    1.000000 -0.231059\n",
       "ASTV -0.231059  1.000000"
      ]
     },
     "execution_count": 33,
     "metadata": {},
     "output_type": "execute_result"
    }
   ],
   "source": [
    "data[['AC','ASTV']].corr()"
   ]
  },
  {
   "cell_type": "markdown",
   "id": "b5f8563e",
   "metadata": {},
   "source": [
    "### ASTV is negatively correlated to AC"
   ]
  },
  {
   "cell_type": "code",
   "execution_count": 60,
   "id": "96392b5b",
   "metadata": {},
   "outputs": [
    {
     "data": {
      "text/html": [
       "<div>\n",
       "<style scoped>\n",
       "    .dataframe tbody tr th:only-of-type {\n",
       "        vertical-align: middle;\n",
       "    }\n",
       "\n",
       "    .dataframe tbody tr th {\n",
       "        vertical-align: top;\n",
       "    }\n",
       "\n",
       "    .dataframe thead th {\n",
       "        text-align: right;\n",
       "    }\n",
       "</style>\n",
       "<table border=\"1\" class=\"dataframe\">\n",
       "  <thead>\n",
       "    <tr style=\"text-align: right;\">\n",
       "      <th></th>\n",
       "      <th>LB</th>\n",
       "      <th>AC</th>\n",
       "    </tr>\n",
       "  </thead>\n",
       "  <tbody>\n",
       "    <tr>\n",
       "      <th>LB</th>\n",
       "      <td>1.000000</td>\n",
       "      <td>-0.063451</td>\n",
       "    </tr>\n",
       "    <tr>\n",
       "      <th>AC</th>\n",
       "      <td>-0.063451</td>\n",
       "      <td>1.000000</td>\n",
       "    </tr>\n",
       "  </tbody>\n",
       "</table>\n",
       "</div>"
      ],
      "text/plain": [
       "          LB        AC\n",
       "LB  1.000000 -0.063451\n",
       "AC -0.063451  1.000000"
      ]
     },
     "execution_count": 60,
     "metadata": {},
     "output_type": "execute_result"
    }
   ],
   "source": [
    "data[['LB','AC']].corr()"
   ]
  },
  {
   "cell_type": "code",
   "execution_count": 61,
   "id": "44b01bbf",
   "metadata": {},
   "outputs": [],
   "source": [
    "## AC is negatively correlated to LB"
   ]
  },
  {
   "cell_type": "code",
   "execution_count": 63,
   "id": "c8174618",
   "metadata": {},
   "outputs": [
    {
     "data": {
      "text/html": [
       "<div>\n",
       "<style scoped>\n",
       "    .dataframe tbody tr th:only-of-type {\n",
       "        vertical-align: middle;\n",
       "    }\n",
       "\n",
       "    .dataframe tbody tr th {\n",
       "        vertical-align: top;\n",
       "    }\n",
       "\n",
       "    .dataframe thead th {\n",
       "        text-align: right;\n",
       "    }\n",
       "</style>\n",
       "<table border=\"1\" class=\"dataframe\">\n",
       "  <thead>\n",
       "    <tr style=\"text-align: right;\">\n",
       "      <th></th>\n",
       "      <th>LB</th>\n",
       "      <th>DL</th>\n",
       "    </tr>\n",
       "  </thead>\n",
       "  <tbody>\n",
       "    <tr>\n",
       "      <th>LB</th>\n",
       "      <td>1.000000</td>\n",
       "      <td>-0.126557</td>\n",
       "    </tr>\n",
       "    <tr>\n",
       "      <th>DL</th>\n",
       "      <td>-0.126557</td>\n",
       "      <td>1.000000</td>\n",
       "    </tr>\n",
       "  </tbody>\n",
       "</table>\n",
       "</div>"
      ],
      "text/plain": [
       "          LB        DL\n",
       "LB  1.000000 -0.126557\n",
       "DL -0.126557  1.000000"
      ]
     },
     "execution_count": 63,
     "metadata": {},
     "output_type": "execute_result"
    }
   ],
   "source": [
    "data[['LB','DL']].corr()"
   ]
  },
  {
   "cell_type": "markdown",
   "id": "bbd369f7",
   "metadata": {},
   "source": [
    "## Summary and Conclusion"
   ]
  },
  {
   "cell_type": "code",
   "execution_count": 59,
   "id": "9d9aa412",
   "metadata": {},
   "outputs": [],
   "source": [
    "### Hence we can conclude that"
   ]
  },
  {
   "cell_type": "code",
   "execution_count": 65,
   "id": "dd37251c",
   "metadata": {},
   "outputs": [],
   "source": [
    "## Strong correlations between certain fetal health indicators, suggesting potential relationships that warrant further\n",
    "## investigation.\n",
    "## Variability and distribution patterns in the data that shed light on the typical ranges and behaviors of fetal heart rate \n",
    "## and related parameters.\n",
    "## Correlations between variables were identified, highlighting potential associations between fetal health indicators \n",
    "## such as baseline fetal heart rate (LB), accelerations (AC), and decelerations (DL, DS, DP)."
   ]
  }
 ],
 "metadata": {
  "kernelspec": {
   "display_name": "Python 3 (ipykernel)",
   "language": "python",
   "name": "python3"
  },
  "language_info": {
   "codemirror_mode": {
    "name": "ipython",
    "version": 3
   },
   "file_extension": ".py",
   "mimetype": "text/x-python",
   "name": "python",
   "nbconvert_exporter": "python",
   "pygments_lexer": "ipython3",
   "version": "3.11.5"
  }
 },
 "nbformat": 4,
 "nbformat_minor": 5
}
