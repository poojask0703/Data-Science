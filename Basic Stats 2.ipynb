{
 "cells": [
  {
   "cell_type": "code",
   "execution_count": 19,
   "id": "56080114",
   "metadata": {},
   "outputs": [],
   "source": [
    "import pandas as pd\n",
    "import numpy as np\n",
    "from scipy.stats import t"
   ]
  },
  {
   "cell_type": "code",
   "execution_count": 6,
   "id": "f619cac6",
   "metadata": {},
   "outputs": [],
   "source": [
    "data=[1.13, 1.55, 1.43, 0.92, 1.25, 1.36, 1.32, 0.85, 1.07, 1.48, 1.20, 1.33, 1.18,1.22,1.29]"
   ]
  },
  {
   "cell_type": "code",
   "execution_count": 7,
   "id": "b7ee295b",
   "metadata": {},
   "outputs": [],
   "source": [
    "df=pd.DataFrame(data)"
   ]
  },
  {
   "cell_type": "code",
   "execution_count": 8,
   "id": "e915fd5b",
   "metadata": {},
   "outputs": [
    {
     "data": {
      "text/html": [
       "<div>\n",
       "<style scoped>\n",
       "    .dataframe tbody tr th:only-of-type {\n",
       "        vertical-align: middle;\n",
       "    }\n",
       "\n",
       "    .dataframe tbody tr th {\n",
       "        vertical-align: top;\n",
       "    }\n",
       "\n",
       "    .dataframe thead th {\n",
       "        text-align: right;\n",
       "    }\n",
       "</style>\n",
       "<table border=\"1\" class=\"dataframe\">\n",
       "  <thead>\n",
       "    <tr style=\"text-align: right;\">\n",
       "      <th></th>\n",
       "      <th>0</th>\n",
       "    </tr>\n",
       "  </thead>\n",
       "  <tbody>\n",
       "    <tr>\n",
       "      <th>0</th>\n",
       "      <td>1.13</td>\n",
       "    </tr>\n",
       "    <tr>\n",
       "      <th>1</th>\n",
       "      <td>1.55</td>\n",
       "    </tr>\n",
       "    <tr>\n",
       "      <th>2</th>\n",
       "      <td>1.43</td>\n",
       "    </tr>\n",
       "    <tr>\n",
       "      <th>3</th>\n",
       "      <td>0.92</td>\n",
       "    </tr>\n",
       "    <tr>\n",
       "      <th>4</th>\n",
       "      <td>1.25</td>\n",
       "    </tr>\n",
       "  </tbody>\n",
       "</table>\n",
       "</div>"
      ],
      "text/plain": [
       "      0\n",
       "0  1.13\n",
       "1  1.55\n",
       "2  1.43\n",
       "3  0.92\n",
       "4  1.25"
      ]
     },
     "execution_count": 8,
     "metadata": {},
     "output_type": "execute_result"
    }
   ],
   "source": [
    "df.head()"
   ]
  },
  {
   "cell_type": "code",
   "execution_count": 10,
   "id": "aeac3d5c",
   "metadata": {},
   "outputs": [
    {
     "data": {
      "text/plain": [
       "0    1.238667\n",
       "dtype: float64"
      ]
     },
     "execution_count": 10,
     "metadata": {},
     "output_type": "execute_result"
    }
   ],
   "source": [
    "S_mean=df.mean()\n",
    "S_mean"
   ]
  },
  {
   "cell_type": "code",
   "execution_count": 11,
   "id": "90bc2a8a",
   "metadata": {},
   "outputs": [
    {
     "data": {
      "text/plain": [
       "0    0.193164\n",
       "dtype: float64"
      ]
     },
     "execution_count": 11,
     "metadata": {},
     "output_type": "execute_result"
    }
   ],
   "source": [
    "S_sd=df.std()\n",
    "S_sd"
   ]
  },
  {
   "cell_type": "code",
   "execution_count": 12,
   "id": "bd5364a9",
   "metadata": {},
   "outputs": [
    {
     "data": {
      "text/plain": [
       "14"
      ]
     },
     "execution_count": 12,
     "metadata": {},
     "output_type": "execute_result"
    }
   ],
   "source": [
    "DegreeOfFreedom=len(df)-1\n",
    "DegreeOfFreedom"
   ]
  },
  {
   "cell_type": "code",
   "execution_count": 42,
   "id": "149b8384",
   "metadata": {},
   "outputs": [
    {
     "data": {
      "text/plain": [
       "2.97684273411266"
      ]
     },
     "execution_count": 42,
     "metadata": {},
     "output_type": "execute_result"
    }
   ],
   "source": [
    "t_value=t.ppf(0.995,DegreeOfFreedom)\n",
    "t_value"
   ]
  },
  {
   "cell_type": "code",
   "execution_count": 43,
   "id": "ad70d912",
   "metadata": {},
   "outputs": [],
   "source": [
    "rootof_df=15**0.5"
   ]
  },
  {
   "cell_type": "code",
   "execution_count": 44,
   "id": "9f1819d7",
   "metadata": {},
   "outputs": [
    {
     "data": {
      "text/plain": [
       "0    0.148469\n",
       "dtype: float64"
      ]
     },
     "execution_count": 44,
     "metadata": {},
     "output_type": "execute_result"
    }
   ],
   "source": [
    "ME1=t_value*(S_sd/rootof_df)\n",
    "ME1"
   ]
  },
  {
   "cell_type": "code",
   "execution_count": 45,
   "id": "083cad79",
   "metadata": {},
   "outputs": [
    {
     "data": {
      "text/plain": [
       "0    1.387136\n",
       "dtype: float64"
      ]
     },
     "execution_count": 45,
     "metadata": {},
     "output_type": "execute_result"
    }
   ],
   "source": [
    "a=S_mean+ME1\n",
    "a"
   ]
  },
  {
   "cell_type": "code",
   "execution_count": 46,
   "id": "15e51df9",
   "metadata": {},
   "outputs": [],
   "source": [
    "b=S_mean-ME1"
   ]
  },
  {
   "cell_type": "code",
   "execution_count": 47,
   "id": "1b528ae1",
   "metadata": {},
   "outputs": [
    {
     "data": {
      "text/plain": [
       "0    1.090197\n",
       "dtype: float64"
      ]
     },
     "execution_count": 47,
     "metadata": {},
     "output_type": "execute_result"
    }
   ],
   "source": [
    "b"
   ]
  },
  {
   "cell_type": "markdown",
   "id": "581c7225",
   "metadata": {},
   "source": [
    "#### The interval is between 1.090197 to 1.387136"
   ]
  },
  {
   "cell_type": "code",
   "execution_count": 48,
   "id": "d9bbc7c2",
   "metadata": {},
   "outputs": [],
   "source": [
    "pop_sd=0.2"
   ]
  },
  {
   "cell_type": "code",
   "execution_count": 49,
   "id": "82c842b1",
   "metadata": {},
   "outputs": [],
   "source": [
    "z=norm.ppf(0.995)"
   ]
  },
  {
   "cell_type": "code",
   "execution_count": 50,
   "id": "ce6eb274",
   "metadata": {},
   "outputs": [
    {
     "data": {
      "text/plain": [
       "2.5758293035489004"
      ]
     },
     "execution_count": 50,
     "metadata": {},
     "output_type": "execute_result"
    }
   ],
   "source": [
    "z"
   ]
  },
  {
   "cell_type": "code",
   "execution_count": 51,
   "id": "8bb16d8c",
   "metadata": {},
   "outputs": [
    {
     "data": {
      "text/plain": [
       "3.872983346207417"
      ]
     },
     "execution_count": 51,
     "metadata": {},
     "output_type": "execute_result"
    }
   ],
   "source": [
    "rootof_df"
   ]
  },
  {
   "cell_type": "code",
   "execution_count": 52,
   "id": "3da64097",
   "metadata": {},
   "outputs": [],
   "source": [
    "sdn=pop_sd/rootof_df"
   ]
  },
  {
   "cell_type": "code",
   "execution_count": 53,
   "id": "126ba534",
   "metadata": {},
   "outputs": [],
   "source": [
    "a=S_mean+(z*sdn)"
   ]
  },
  {
   "cell_type": "code",
   "execution_count": 54,
   "id": "487fd0e9",
   "metadata": {},
   "outputs": [
    {
     "data": {
      "text/plain": [
       "0    1.371682\n",
       "dtype: float64"
      ]
     },
     "execution_count": 54,
     "metadata": {},
     "output_type": "execute_result"
    }
   ],
   "source": [
    "a"
   ]
  },
  {
   "cell_type": "code",
   "execution_count": 55,
   "id": "d81d4f11",
   "metadata": {},
   "outputs": [],
   "source": [
    "b=S_mean-(z*sdn)"
   ]
  },
  {
   "cell_type": "code",
   "execution_count": 56,
   "id": "d44476f9",
   "metadata": {},
   "outputs": [
    {
     "data": {
      "text/plain": [
       "0    1.105651\n",
       "dtype: float64"
      ]
     },
     "execution_count": 56,
     "metadata": {},
     "output_type": "execute_result"
    }
   ],
   "source": [
    "b"
   ]
  },
  {
   "cell_type": "markdown",
   "id": "5b8c7a82",
   "metadata": {},
   "source": [
    "#### The interval is between 1.105651 to  1.371682"
   ]
  },
  {
   "cell_type": "code",
   "execution_count": null,
   "id": "7eec4ae5",
   "metadata": {},
   "outputs": [],
   "source": []
  }
 ],
 "metadata": {
  "kernelspec": {
   "display_name": "Python 3 (ipykernel)",
   "language": "python",
   "name": "python3"
  },
  "language_info": {
   "codemirror_mode": {
    "name": "ipython",
    "version": 3
   },
   "file_extension": ".py",
   "mimetype": "text/x-python",
   "name": "python",
   "nbconvert_exporter": "python",
   "pygments_lexer": "ipython3",
   "version": "3.11.5"
  }
 },
 "nbformat": 4,
 "nbformat_minor": 5
}
