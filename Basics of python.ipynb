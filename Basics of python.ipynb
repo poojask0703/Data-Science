{
 "cells": [
  {
   "cell_type": "markdown",
   "id": "eaeeca8a",
   "metadata": {},
   "source": [
    "### Prime numbers"
   ]
  },
  {
   "cell_type": "code",
   "execution_count": 3,
   "id": "3f1dbecc",
   "metadata": {},
   "outputs": [
    {
     "name": "stdout",
     "output_type": "stream",
     "text": [
      "Enter a number: 7\n",
      "7 is a prime number.\n"
     ]
    }
   ],
   "source": [
    "def is_prime(n):\n",
    "    if n <= 1:\n",
    "        return False\n",
    "    elif n <= 3:\n",
    "        return True\n",
    "    elif n % 2 == 0 or n % 3 == 0:\n",
    "        return False\n",
    "    i = 5\n",
    "    while i * i <= n:\n",
    "        if n % i == 0 or n % (i + 2) == 0:\n",
    "            return False\n",
    "        i += 6\n",
    "    return True\n",
    "\n",
    "def main():\n",
    "    num = int(input(\"Enter a number: \"))\n",
    "    if is_prime(num):\n",
    "        print(num, \"is a prime number.\")\n",
    "    else:\n",
    "        print(num, \"is not a prime number.\")\n",
    "\n",
    "if __name__ == \"__main__\":\n",
    "    main()\n"
   ]
  },
  {
   "cell_type": "code",
   "execution_count": 4,
   "id": "83519432",
   "metadata": {},
   "outputs": [],
   "source": [
    "import random"
   ]
  },
  {
   "cell_type": "code",
   "execution_count": 10,
   "id": "b8af4f7d",
   "metadata": {},
   "outputs": [
    {
     "name": "stdout",
     "output_type": "stream",
     "text": [
      "Enter the product of 19839 and 12903: 255982617\n",
      "255982617 is right answer\n"
     ]
    }
   ],
   "source": [
    "def ProdOfTwo(a,b,c):\n",
    "    if((a*b)==c):\n",
    "        print(c, \"is right answer\")\n",
    "    else:\n",
    "        print(c, \"is wrong answer. The right answer is \", a*b)\n",
    "a=random.randint(0,19909)\n",
    "b=random.randint(0,13453)\n",
    "c = int(input(\"Enter the product of {} and {}: \".format(a, b)))\n",
    "ProdOfTwo(a,b,c)\n"
   ]
  },
  {
   "cell_type": "code",
   "execution_count": 13,
   "id": "6c1faae3",
   "metadata": {},
   "outputs": [
    {
     "name": "stdout",
     "output_type": "stream",
     "text": [
      "Enter even(0) or odd(1)0\n",
      "10404\n",
      "10816\n",
      "11236\n",
      "11664\n",
      "12100\n",
      "12544\n",
      "12996\n",
      "13456\n",
      "13924\n",
      "14400\n",
      "14884\n",
      "15376\n",
      "15876\n",
      "16384\n",
      "16900\n",
      "17424\n",
      "17956\n",
      "18496\n",
      "19044\n",
      "19600\n",
      "20164\n",
      "20736\n",
      "21316\n",
      "21904\n",
      "22500\n",
      "23104\n",
      "23716\n",
      "24336\n",
      "24964\n",
      "25600\n",
      "26244\n",
      "26896\n",
      "27556\n",
      "28224\n",
      "28900\n",
      "29584\n",
      "30276\n",
      "30976\n",
      "31684\n",
      "32400\n",
      "33124\n",
      "33856\n",
      "34596\n",
      "35344\n",
      "36100\n",
      "36864\n",
      "37636\n",
      "38416\n",
      "39204\n",
      "40000\n"
     ]
    }
   ],
   "source": [
    "def Sq(b):\n",
    "    s=0\n",
    "    for i in range(b,201,2):\n",
    "        print(i**2)\n",
    "a=int(input(\"Enter even(0) or odd(1)\"))\n",
    "if(a==1):\n",
    "    b=101\n",
    "    Sq(b)\n",
    "else:\n",
    "    b=102\n",
    "    Sq(b)"
   ]
  },
  {
   "cell_type": "markdown",
   "id": "c815f3de",
   "metadata": {},
   "source": [
    "### Word count"
   ]
  },
  {
   "cell_type": "code",
   "execution_count": 2,
   "id": "9e9b7923",
   "metadata": {},
   "outputs": [
    {
     "name": "stdout",
     "output_type": "stream",
     "text": [
      "Enter the text: this this this is the world world wrold\n",
      "this - 3\n",
      "is - 1\n",
      "the - 1\n",
      "world - 2\n",
      "wrold - 1\n"
     ]
    }
   ],
   "source": [
    "def count_words(text):\n",
    "    # Split the text into words using whitespace as separator\n",
    "    words = text.split()\n",
    "    # Create an empty dictionary to store word counts\n",
    "    word_count = {}\n",
    "    \n",
    "    # Count the occurrences of each word\n",
    "    for word in words:\n",
    "        # Convert word to lowercase to ensure case-insensitive counting\n",
    "        word = word.lower()\n",
    "        # If the word is already in the dictionary, increment its count\n",
    "        if word in word_count:\n",
    "            word_count[word] += 1\n",
    "        # If the word is not in the dictionary, add it with count 1\n",
    "        else:\n",
    "            word_count[word] = 1\n",
    "    \n",
    "    return word_count\n",
    "\n",
    "# Example usage\n",
    "text = input(\"Enter the text: \")\n",
    "word_counts = count_words(text)\n",
    "# Print word counts\n",
    "for word, count in word_counts.items():\n",
    "    print(f\"{word} - {count}\")\n"
   ]
  },
  {
   "cell_type": "markdown",
   "id": "f1960c6b",
   "metadata": {},
   "source": [
    "### Palindrome"
   ]
  },
  {
   "cell_type": "code",
   "execution_count": 8,
   "id": "c6fd89e1",
   "metadata": {},
   "outputs": [
    {
     "name": "stdout",
     "output_type": "stream",
     "text": [
      "Enter the string: racecar\n",
      "True\n"
     ]
    }
   ],
   "source": [
    "def is_palindrome(s):\n",
    "    # Convert the string to lowercase and remove spaces and punctuation\n",
    "    s = ''.join(char.lower() for char in s if char.isalnum())\n",
    "    # Check if the length of the string is 1 or 0, return False for single character strings\n",
    "    if len(s) <= 1:\n",
    "        return False\n",
    "    # Check if the string is equal to its reverse\n",
    "    return s == s[::-1]\n",
    "\n",
    "# Test the function\n",
    "test_string = input(\"Enter the string: \")\n",
    "print(is_palindrome(test_string))\n"
   ]
  },
  {
   "cell_type": "code",
   "execution_count": null,
   "id": "f3d0dd10",
   "metadata": {},
   "outputs": [],
   "source": []
  }
 ],
 "metadata": {
  "kernelspec": {
   "display_name": "Python 3 (ipykernel)",
   "language": "python",
   "name": "python3"
  },
  "language_info": {
   "codemirror_mode": {
    "name": "ipython",
    "version": 3
   },
   "file_extension": ".py",
   "mimetype": "text/x-python",
   "name": "python",
   "nbconvert_exporter": "python",
   "pygments_lexer": "ipython3",
   "version": "3.11.5"
  }
 },
 "nbformat": 4,
 "nbformat_minor": 5
}
