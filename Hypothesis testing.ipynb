{
 "cells": [
  {
   "cell_type": "code",
   "execution_count": 1,
   "id": "b2f0be26",
   "metadata": {},
   "outputs": [],
   "source": [
    "import numpy as np\n",
    "from scipy.stats import chi2"
   ]
  },
  {
   "cell_type": "code",
   "execution_count": 2,
   "id": "9ce8cd6b",
   "metadata": {},
   "outputs": [],
   "source": [
    "# Contingency table\n",
    "a = np.array([[50, 70],\n",
    "                     [80, 100],\n",
    "                     [60, 90],\n",
    "                     [30, 50],\n",
    "                     [20, 50]])"
   ]
  },
  {
   "cell_type": "code",
   "execution_count": 3,
   "id": "77c405ba",
   "metadata": {},
   "outputs": [
    {
     "data": {
      "text/plain": [
       "array([[ 50,  70],\n",
       "       [ 80, 100],\n",
       "       [ 60,  90],\n",
       "       [ 30,  50],\n",
       "       [ 20,  50]])"
      ]
     },
     "execution_count": 3,
     "metadata": {},
     "output_type": "execute_result"
    }
   ],
   "source": [
    "a"
   ]
  },
  {
   "cell_type": "code",
   "execution_count": 4,
   "id": "f882e4f0",
   "metadata": {},
   "outputs": [],
   "source": [
    "\n",
    "# Compute expected frequencies\n",
    "row_totals = a.sum(axis=1)\n",
    "col_totals = a.sum(axis=0)\n",
    "total = a.sum()"
   ]
  },
  {
   "cell_type": "code",
   "execution_count": 5,
   "id": "3200254c",
   "metadata": {},
   "outputs": [],
   "source": [
    "b = np.outer(row_totals, col_totals) / total"
   ]
  },
  {
   "cell_type": "code",
   "execution_count": 6,
   "id": "d317b7c1",
   "metadata": {},
   "outputs": [
    {
     "data": {
      "text/plain": [
       "array([[ 48.,  72.],\n",
       "       [ 72., 108.],\n",
       "       [ 60.,  90.],\n",
       "       [ 32.,  48.],\n",
       "       [ 28.,  42.]])"
      ]
     },
     "execution_count": 6,
     "metadata": {},
     "output_type": "execute_result"
    }
   ],
   "source": [
    "b"
   ]
  },
  {
   "cell_type": "code",
   "execution_count": 7,
   "id": "a3e7ff4f",
   "metadata": {},
   "outputs": [],
   "source": [
    "# Compute chi-square statistic\n",
    "chi2_statistic = np.sum((a -b)**2 / b)"
   ]
  },
  {
   "cell_type": "code",
   "execution_count": 8,
   "id": "62cd1e99",
   "metadata": {},
   "outputs": [
    {
     "data": {
      "text/plain": [
       "5.638227513227513"
      ]
     },
     "execution_count": 8,
     "metadata": {},
     "output_type": "execute_result"
    }
   ],
   "source": [
    "chi2_statistic"
   ]
  },
  {
   "cell_type": "code",
   "execution_count": 10,
   "id": "3606ef9b",
   "metadata": {},
   "outputs": [
    {
     "data": {
      "text/plain": [
       "4"
      ]
     },
     "execution_count": 10,
     "metadata": {},
     "output_type": "execute_result"
    }
   ],
   "source": [
    "# Degrees of freedom\n",
    "degrees_of_freedom = (a.shape[0] - 1) * (a.shape[1] - 1)\n",
    "degrees_of_freedom"
   ]
  },
  {
   "cell_type": "code",
   "execution_count": 11,
   "id": "ddb75bfd",
   "metadata": {},
   "outputs": [],
   "source": [
    "# Critical value\n",
    "alpha = 0.05\n",
    "critical_value = chi2.ppf(1 - alpha, degrees_of_freedom)"
   ]
  },
  {
   "cell_type": "code",
   "execution_count": 12,
   "id": "91d492b8",
   "metadata": {},
   "outputs": [
    {
     "data": {
      "text/plain": [
       "9.487729036781154"
      ]
     },
     "execution_count": 12,
     "metadata": {},
     "output_type": "execute_result"
    }
   ],
   "source": [
    "critical_value"
   ]
  },
  {
   "cell_type": "code",
   "execution_count": 13,
   "id": "18b86eba",
   "metadata": {},
   "outputs": [
    {
     "name": "stdout",
     "output_type": "stream",
     "text": [
      "1. Hypotheses:\n",
      "Null Hypothesis (H0): There is no association between device type and customer satisfaction.\n",
      "Alternative Hypothesis (H1): There is an association between device type and customer satisfaction.\n",
      "\n",
      "2. Chi-Square Statistic: 5.638227513227513\n",
      "\n",
      "3. Critical Value: 9.487729036781154\n",
      "\n",
      "4. Decision:\n",
      "Since the Chi-Square statistic is not greater than the critical value, we fail to reject the null hypothesis.\n",
      "There is no significant association between device type and customer satisfaction.\n"
     ]
    }
   ],
   "source": [
    "\n",
    "# State the Hypotheses\n",
    "print(\"1. Hypotheses:\")\n",
    "print(\"Null Hypothesis (H0): There is no association between device type and customer satisfaction.\")\n",
    "print(\"Alternative Hypothesis (H1): There is an association between device type and customer satisfaction.\")\n",
    "\n",
    "# Compute the Chi-Square Statistic\n",
    "print(\"\\n2. Chi-Square Statistic:\", chi2_statistic)\n",
    "\n",
    "# Determine the Critical Value\n",
    "print(\"\\n3. Critical Value:\", critical_value)\n",
    "\n",
    "# Make a Decision\n",
    "print(\"\\n4. Decision:\")\n",
    "if chi2_statistic > critical_value:\n",
    "    print(\"Since the Chi-Square statistic is greater than the critical value, we reject the null hypothesis.\")\n",
    "    print(\"There is a significant association between device type and customer satisfaction.\")\n",
    "else:\n",
    "    print(\"Since the Chi-Square statistic is not greater than the critical value, we fail to reject the null hypothesis.\")\n",
    "    print(\"There is no significant association between device type and customer satisfaction.\")"
   ]
  },
  {
   "cell_type": "markdown",
   "id": "c5952bc4",
   "metadata": {},
   "source": [
    "## Hypothesis testing"
   ]
  },
  {
   "cell_type": "code",
   "execution_count": 14,
   "id": "27b6f9c7",
   "metadata": {},
   "outputs": [],
   "source": [
    "import numpy as np\n",
    "from scipy.stats import t"
   ]
  },
  {
   "cell_type": "code",
   "execution_count": 15,
   "id": "cb545753",
   "metadata": {},
   "outputs": [],
   "source": [
    "# Given data\n",
    "sample_mean = 3050  # sample mean weekly cost (Rs)\n",
    "theoretical_mean = 1000 + 5 * 600  # theoretical mean weekly cost according to the model (Rs)\n",
    "std_dev = 5 * 25  # standard deviation (Rs)\n",
    "sample_size = 25  # sample size"
   ]
  },
  {
   "cell_type": "code",
   "execution_count": 16,
   "id": "aa54ff17",
   "metadata": {},
   "outputs": [],
   "source": [
    "# Calculate the test statistic (t)\n",
    "test_statistic = (sample_mean - theoretical_mean) / (std_dev / np.sqrt(sample_size))"
   ]
  },
  {
   "cell_type": "code",
   "execution_count": 17,
   "id": "e46c13d6",
   "metadata": {},
   "outputs": [
    {
     "data": {
      "text/plain": [
       "-38.0"
      ]
     },
     "execution_count": 17,
     "metadata": {},
     "output_type": "execute_result"
    }
   ],
   "source": [
    "test_statistic\n"
   ]
  },
  {
   "cell_type": "code",
   "execution_count": 18,
   "id": "9205ca8a",
   "metadata": {},
   "outputs": [],
   "source": [
    "# Determine the Critical Value\n",
    "alpha = 0.05  # significance level\n",
    "degrees_of_freedom = sample_size - 1\n",
    "critical_value = t.ppf(1 - alpha, degrees_of_freedom)"
   ]
  },
  {
   "cell_type": "code",
   "execution_count": 19,
   "id": "1a2fc2ad",
   "metadata": {},
   "outputs": [
    {
     "data": {
      "text/plain": [
       "1.7108820799094275"
      ]
     },
     "execution_count": 19,
     "metadata": {},
     "output_type": "execute_result"
    }
   ],
   "source": [
    "critical_value"
   ]
  },
  {
   "cell_type": "code",
   "execution_count": 20,
   "id": "58eb1702",
   "metadata": {},
   "outputs": [
    {
     "name": "stdout",
     "output_type": "stream",
     "text": [
      "1. Hypotheses:\n",
      "Null Hypothesis (H0): The weekly operating costs are as per the theoretical model.\n",
      "Alternative Hypothesis (H1): The weekly operating costs are higher than the theoretical model.\n"
     ]
    }
   ],
   "source": [
    "# State the Hypotheses\n",
    "print(\"1. Hypotheses:\")\n",
    "print(\"Null Hypothesis (H0): The weekly operating costs are as per the theoretical model.\")\n",
    "print(\"Alternative Hypothesis (H1): The weekly operating costs are higher than the theoretical model.\")"
   ]
  },
  {
   "cell_type": "code",
   "execution_count": 21,
   "id": "eca48dcc",
   "metadata": {},
   "outputs": [
    {
     "name": "stdout",
     "output_type": "stream",
     "text": [
      "\n",
      "2. Test Statistic (t): -38.0\n",
      "\n",
      "3. Critical Value: 1.7108820799094275\n",
      "\n",
      "4. Decision:\n",
      "Since the test statistic is not greater than the critical value, we fail to reject the null hypothesis.\n",
      "There is not enough evidence to support the claim that the weekly operating costs are higher than the model suggests.\n",
      "\n",
      "5. Conclusion:\n",
      "Based on the decision in step 4, there is not enough evidence to support the claim that the weekly operating costs are higher than the model suggests.\n"
     ]
    }
   ],
   "source": [
    "# Calculate the Test Statistic\n",
    "print(\"\\n2. Test Statistic (t):\", test_statistic)\n",
    "\n",
    "# Determine the Critical Value\n",
    "print(\"\\n3. Critical Value:\", critical_value)\n",
    "\n",
    "# Make a Decision\n",
    "print(\"\\n4. Decision:\")\n",
    "if test_statistic > critical_value:\n",
    "    print(\"Since the test statistic is greater than the critical value, we reject the null hypothesis.\")\n",
    "    print(\"There is strong evidence to support the claim that the weekly operating costs are higher than the model suggests.\")\n",
    "else:\n",
    "    print(\"Since the test statistic is not greater than the critical value, we fail to reject the null hypothesis.\")\n",
    "    print(\"There is not enough evidence to support the claim that the weekly operating costs are higher than the model suggests.\")\n",
    "\n",
    "# Conclusion\n",
    "print(\"\\n5. Conclusion:\")\n",
    "if test_statistic > critical_value:\n",
    "    print(\"Based on the decision in step 4, there is strong evidence to support the restaurant owners' claim that the weekly operating costs are higher than the model suggests.\")\n",
    "else:\n",
    "    print(\"Based on the decision in step 4, there is not enough evidence to support the claim that the weekly operating costs are higher than the model suggests.\")\n"
   ]
  },
  {
   "cell_type": "markdown",
   "id": "399e88d0",
   "metadata": {},
   "source": [
    "\n",
    "\n",
    "\n",
    "\n",
    "\n"
   ]
  }
 ],
 "metadata": {
  "kernelspec": {
   "display_name": "Python 3 (ipykernel)",
   "language": "python",
   "name": "python3"
  },
  "language_info": {
   "codemirror_mode": {
    "name": "ipython",
    "version": 3
   },
   "file_extension": ".py",
   "mimetype": "text/x-python",
   "name": "python",
   "nbconvert_exporter": "python",
   "pygments_lexer": "ipython3",
   "version": "3.11.5"
  }
 },
 "nbformat": 4,
 "nbformat_minor": 5
}
