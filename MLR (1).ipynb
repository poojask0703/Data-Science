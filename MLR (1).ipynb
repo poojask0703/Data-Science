{
 "cells": [
  {
   "cell_type": "code",
   "execution_count": 2,
   "id": "0f6111c2",
   "metadata": {},
   "outputs": [],
   "source": [
    "import pandas as pd\n",
    "import numpy as np\n",
    "import matplotlib.pyplot as plt\n",
    "import seaborn as sns\n",
    "from sklearn.model_selection import train_test_split\n",
    "from sklearn.linear_model import LinearRegression\n",
    "from sklearn.neighbors import KNeighborsRegressor\n",
    "from sklearn.metrics import accuracy_score,classification_report\n",
    "from sklearn import tree\n",
    "from sklearn.preprocessing import LabelEncoder,StandardScaler"
   ]
  },
  {
   "cell_type": "code",
   "execution_count": 3,
   "id": "78f367e5",
   "metadata": {},
   "outputs": [],
   "source": [
    "data=pd.read_csv('ToyotaCorolla - MLR.csv')"
   ]
  },
  {
   "cell_type": "code",
   "execution_count": 4,
   "id": "395eb44b",
   "metadata": {},
   "outputs": [
    {
     "data": {
      "text/html": [
       "<div>\n",
       "<style scoped>\n",
       "    .dataframe tbody tr th:only-of-type {\n",
       "        vertical-align: middle;\n",
       "    }\n",
       "\n",
       "    .dataframe tbody tr th {\n",
       "        vertical-align: top;\n",
       "    }\n",
       "\n",
       "    .dataframe thead th {\n",
       "        text-align: right;\n",
       "    }\n",
       "</style>\n",
       "<table border=\"1\" class=\"dataframe\">\n",
       "  <thead>\n",
       "    <tr style=\"text-align: right;\">\n",
       "      <th></th>\n",
       "      <th>Price</th>\n",
       "      <th>Age_08_04</th>\n",
       "      <th>KM</th>\n",
       "      <th>Fuel_Type</th>\n",
       "      <th>HP</th>\n",
       "      <th>Automatic</th>\n",
       "      <th>cc</th>\n",
       "      <th>Doors</th>\n",
       "      <th>Cylinders</th>\n",
       "      <th>Gears</th>\n",
       "      <th>Weight</th>\n",
       "    </tr>\n",
       "  </thead>\n",
       "  <tbody>\n",
       "    <tr>\n",
       "      <th>0</th>\n",
       "      <td>13500</td>\n",
       "      <td>23</td>\n",
       "      <td>46986</td>\n",
       "      <td>Diesel</td>\n",
       "      <td>90</td>\n",
       "      <td>0</td>\n",
       "      <td>2000</td>\n",
       "      <td>3</td>\n",
       "      <td>4</td>\n",
       "      <td>5</td>\n",
       "      <td>1165</td>\n",
       "    </tr>\n",
       "    <tr>\n",
       "      <th>1</th>\n",
       "      <td>13750</td>\n",
       "      <td>23</td>\n",
       "      <td>72937</td>\n",
       "      <td>Diesel</td>\n",
       "      <td>90</td>\n",
       "      <td>0</td>\n",
       "      <td>2000</td>\n",
       "      <td>3</td>\n",
       "      <td>4</td>\n",
       "      <td>5</td>\n",
       "      <td>1165</td>\n",
       "    </tr>\n",
       "    <tr>\n",
       "      <th>2</th>\n",
       "      <td>13950</td>\n",
       "      <td>24</td>\n",
       "      <td>41711</td>\n",
       "      <td>Diesel</td>\n",
       "      <td>90</td>\n",
       "      <td>0</td>\n",
       "      <td>2000</td>\n",
       "      <td>3</td>\n",
       "      <td>4</td>\n",
       "      <td>5</td>\n",
       "      <td>1165</td>\n",
       "    </tr>\n",
       "    <tr>\n",
       "      <th>3</th>\n",
       "      <td>14950</td>\n",
       "      <td>26</td>\n",
       "      <td>48000</td>\n",
       "      <td>Diesel</td>\n",
       "      <td>90</td>\n",
       "      <td>0</td>\n",
       "      <td>2000</td>\n",
       "      <td>3</td>\n",
       "      <td>4</td>\n",
       "      <td>5</td>\n",
       "      <td>1165</td>\n",
       "    </tr>\n",
       "    <tr>\n",
       "      <th>4</th>\n",
       "      <td>13750</td>\n",
       "      <td>30</td>\n",
       "      <td>38500</td>\n",
       "      <td>Diesel</td>\n",
       "      <td>90</td>\n",
       "      <td>0</td>\n",
       "      <td>2000</td>\n",
       "      <td>3</td>\n",
       "      <td>4</td>\n",
       "      <td>5</td>\n",
       "      <td>1170</td>\n",
       "    </tr>\n",
       "  </tbody>\n",
       "</table>\n",
       "</div>"
      ],
      "text/plain": [
       "   Price  Age_08_04     KM Fuel_Type  HP  Automatic    cc  Doors  Cylinders  \\\n",
       "0  13500         23  46986    Diesel  90          0  2000      3          4   \n",
       "1  13750         23  72937    Diesel  90          0  2000      3          4   \n",
       "2  13950         24  41711    Diesel  90          0  2000      3          4   \n",
       "3  14950         26  48000    Diesel  90          0  2000      3          4   \n",
       "4  13750         30  38500    Diesel  90          0  2000      3          4   \n",
       "\n",
       "   Gears  Weight  \n",
       "0      5    1165  \n",
       "1      5    1165  \n",
       "2      5    1165  \n",
       "3      5    1165  \n",
       "4      5    1170  "
      ]
     },
     "execution_count": 4,
     "metadata": {},
     "output_type": "execute_result"
    }
   ],
   "source": [
    "data.head()"
   ]
  },
  {
   "cell_type": "code",
   "execution_count": 15,
   "id": "2a2d82a7",
   "metadata": {},
   "outputs": [],
   "source": [
    "features=data.drop('Price',axis=1)"
   ]
  },
  {
   "cell_type": "code",
   "execution_count": 16,
   "id": "a4d3d446",
   "metadata": {},
   "outputs": [
    {
     "data": {
      "text/html": [
       "<div>\n",
       "<style scoped>\n",
       "    .dataframe tbody tr th:only-of-type {\n",
       "        vertical-align: middle;\n",
       "    }\n",
       "\n",
       "    .dataframe tbody tr th {\n",
       "        vertical-align: top;\n",
       "    }\n",
       "\n",
       "    .dataframe thead th {\n",
       "        text-align: right;\n",
       "    }\n",
       "</style>\n",
       "<table border=\"1\" class=\"dataframe\">\n",
       "  <thead>\n",
       "    <tr style=\"text-align: right;\">\n",
       "      <th></th>\n",
       "      <th>Age_08_04</th>\n",
       "      <th>KM</th>\n",
       "      <th>Fuel_Type</th>\n",
       "      <th>HP</th>\n",
       "      <th>Automatic</th>\n",
       "      <th>cc</th>\n",
       "      <th>Doors</th>\n",
       "      <th>Cylinders</th>\n",
       "      <th>Gears</th>\n",
       "      <th>Weight</th>\n",
       "    </tr>\n",
       "  </thead>\n",
       "  <tbody>\n",
       "    <tr>\n",
       "      <th>0</th>\n",
       "      <td>23</td>\n",
       "      <td>46986</td>\n",
       "      <td>Diesel</td>\n",
       "      <td>90</td>\n",
       "      <td>0</td>\n",
       "      <td>2000</td>\n",
       "      <td>3</td>\n",
       "      <td>4</td>\n",
       "      <td>5</td>\n",
       "      <td>1165</td>\n",
       "    </tr>\n",
       "    <tr>\n",
       "      <th>1</th>\n",
       "      <td>23</td>\n",
       "      <td>72937</td>\n",
       "      <td>Diesel</td>\n",
       "      <td>90</td>\n",
       "      <td>0</td>\n",
       "      <td>2000</td>\n",
       "      <td>3</td>\n",
       "      <td>4</td>\n",
       "      <td>5</td>\n",
       "      <td>1165</td>\n",
       "    </tr>\n",
       "    <tr>\n",
       "      <th>2</th>\n",
       "      <td>24</td>\n",
       "      <td>41711</td>\n",
       "      <td>Diesel</td>\n",
       "      <td>90</td>\n",
       "      <td>0</td>\n",
       "      <td>2000</td>\n",
       "      <td>3</td>\n",
       "      <td>4</td>\n",
       "      <td>5</td>\n",
       "      <td>1165</td>\n",
       "    </tr>\n",
       "    <tr>\n",
       "      <th>3</th>\n",
       "      <td>26</td>\n",
       "      <td>48000</td>\n",
       "      <td>Diesel</td>\n",
       "      <td>90</td>\n",
       "      <td>0</td>\n",
       "      <td>2000</td>\n",
       "      <td>3</td>\n",
       "      <td>4</td>\n",
       "      <td>5</td>\n",
       "      <td>1165</td>\n",
       "    </tr>\n",
       "    <tr>\n",
       "      <th>4</th>\n",
       "      <td>30</td>\n",
       "      <td>38500</td>\n",
       "      <td>Diesel</td>\n",
       "      <td>90</td>\n",
       "      <td>0</td>\n",
       "      <td>2000</td>\n",
       "      <td>3</td>\n",
       "      <td>4</td>\n",
       "      <td>5</td>\n",
       "      <td>1170</td>\n",
       "    </tr>\n",
       "  </tbody>\n",
       "</table>\n",
       "</div>"
      ],
      "text/plain": [
       "   Age_08_04     KM Fuel_Type  HP  Automatic    cc  Doors  Cylinders  Gears  \\\n",
       "0         23  46986    Diesel  90          0  2000      3          4      5   \n",
       "1         23  72937    Diesel  90          0  2000      3          4      5   \n",
       "2         24  41711    Diesel  90          0  2000      3          4      5   \n",
       "3         26  48000    Diesel  90          0  2000      3          4      5   \n",
       "4         30  38500    Diesel  90          0  2000      3          4      5   \n",
       "\n",
       "   Weight  \n",
       "0    1165  \n",
       "1    1165  \n",
       "2    1165  \n",
       "3    1165  \n",
       "4    1170  "
      ]
     },
     "execution_count": 16,
     "metadata": {},
     "output_type": "execute_result"
    }
   ],
   "source": [
    "features.head()"
   ]
  },
  {
   "cell_type": "code",
   "execution_count": 17,
   "id": "31c50cc9",
   "metadata": {},
   "outputs": [],
   "source": [
    "target=data['Price']"
   ]
  },
  {
   "cell_type": "code",
   "execution_count": 18,
   "id": "1442dd9d",
   "metadata": {},
   "outputs": [
    {
     "data": {
      "text/plain": [
       "0    13500\n",
       "1    13750\n",
       "2    13950\n",
       "3    14950\n",
       "4    13750\n",
       "Name: Price, dtype: int64"
      ]
     },
     "execution_count": 18,
     "metadata": {},
     "output_type": "execute_result"
    }
   ],
   "source": [
    "target.head()"
   ]
  },
  {
   "cell_type": "code",
   "execution_count": 19,
   "id": "d14d24b7",
   "metadata": {},
   "outputs": [
    {
     "data": {
      "text/plain": [
       "(1435, 10)"
      ]
     },
     "execution_count": 19,
     "metadata": {},
     "output_type": "execute_result"
    }
   ],
   "source": [
    "features.shape"
   ]
  },
  {
   "cell_type": "code",
   "execution_count": 10,
   "id": "5811f519",
   "metadata": {},
   "outputs": [
    {
     "data": {
      "text/plain": [
       "Age_08_04    0\n",
       "KM           0\n",
       "Fuel_Type    0\n",
       "HP           0\n",
       "Automatic    0\n",
       "cc           0\n",
       "Doors        0\n",
       "Cylinders    0\n",
       "Gears        0\n",
       "Weight       0\n",
       "dtype: int64"
      ]
     },
     "execution_count": 10,
     "metadata": {},
     "output_type": "execute_result"
    }
   ],
   "source": [
    "features.isnull().sum()"
   ]
  },
  {
   "cell_type": "code",
   "execution_count": 11,
   "id": "7b9bcf69",
   "metadata": {},
   "outputs": [
    {
     "data": {
      "text/plain": [
       "0"
      ]
     },
     "execution_count": 11,
     "metadata": {},
     "output_type": "execute_result"
    }
   ],
   "source": [
    "target.isnull().sum()"
   ]
  },
  {
   "cell_type": "code",
   "execution_count": 12,
   "id": "074d3931",
   "metadata": {},
   "outputs": [
    {
     "data": {
      "text/plain": [
       "2"
      ]
     },
     "execution_count": 12,
     "metadata": {},
     "output_type": "execute_result"
    }
   ],
   "source": [
    "features.duplicated().sum()"
   ]
  },
  {
   "cell_type": "code",
   "execution_count": 13,
   "id": "fcd29155",
   "metadata": {},
   "outputs": [],
   "source": [
    "data.drop_duplicates(inplace=True,ignore_index=True)"
   ]
  },
  {
   "cell_type": "code",
   "execution_count": 20,
   "id": "bcb7b67b",
   "metadata": {},
   "outputs": [],
   "source": [
    "LR=LinearRegression()"
   ]
  },
  {
   "cell_type": "code",
   "execution_count": 31,
   "id": "2afd8f00",
   "metadata": {},
   "outputs": [],
   "source": [
    "xtrain,xtest,ytrain,ytest=train_test_split(features,target,train_size=0.80,random_state=20)"
   ]
  },
  {
   "cell_type": "code",
   "execution_count": 32,
   "id": "6d4164a5",
   "metadata": {},
   "outputs": [
    {
     "data": {
      "text/plain": [
       "(1148, 10)"
      ]
     },
     "execution_count": 32,
     "metadata": {},
     "output_type": "execute_result"
    }
   ],
   "source": [
    "xtrain.shape"
   ]
  },
  {
   "cell_type": "code",
   "execution_count": 23,
   "id": "913f5930",
   "metadata": {},
   "outputs": [],
   "source": [
    "lab=LabelEncoder()"
   ]
  },
  {
   "cell_type": "code",
   "execution_count": 24,
   "id": "8bc00064",
   "metadata": {},
   "outputs": [],
   "source": [
    "features['Fuel_Type']=lab.fit_transform(features['Fuel_Type'])"
   ]
  },
  {
   "cell_type": "code",
   "execution_count": 25,
   "id": "7301ab37",
   "metadata": {},
   "outputs": [
    {
     "data": {
      "text/html": [
       "<div>\n",
       "<style scoped>\n",
       "    .dataframe tbody tr th:only-of-type {\n",
       "        vertical-align: middle;\n",
       "    }\n",
       "\n",
       "    .dataframe tbody tr th {\n",
       "        vertical-align: top;\n",
       "    }\n",
       "\n",
       "    .dataframe thead th {\n",
       "        text-align: right;\n",
       "    }\n",
       "</style>\n",
       "<table border=\"1\" class=\"dataframe\">\n",
       "  <thead>\n",
       "    <tr style=\"text-align: right;\">\n",
       "      <th></th>\n",
       "      <th>Age_08_04</th>\n",
       "      <th>KM</th>\n",
       "      <th>Fuel_Type</th>\n",
       "      <th>HP</th>\n",
       "      <th>Automatic</th>\n",
       "      <th>cc</th>\n",
       "      <th>Doors</th>\n",
       "      <th>Cylinders</th>\n",
       "      <th>Gears</th>\n",
       "      <th>Weight</th>\n",
       "    </tr>\n",
       "  </thead>\n",
       "  <tbody>\n",
       "    <tr>\n",
       "      <th>0</th>\n",
       "      <td>23</td>\n",
       "      <td>46986</td>\n",
       "      <td>1</td>\n",
       "      <td>90</td>\n",
       "      <td>0</td>\n",
       "      <td>2000</td>\n",
       "      <td>3</td>\n",
       "      <td>4</td>\n",
       "      <td>5</td>\n",
       "      <td>1165</td>\n",
       "    </tr>\n",
       "    <tr>\n",
       "      <th>1</th>\n",
       "      <td>23</td>\n",
       "      <td>72937</td>\n",
       "      <td>1</td>\n",
       "      <td>90</td>\n",
       "      <td>0</td>\n",
       "      <td>2000</td>\n",
       "      <td>3</td>\n",
       "      <td>4</td>\n",
       "      <td>5</td>\n",
       "      <td>1165</td>\n",
       "    </tr>\n",
       "    <tr>\n",
       "      <th>2</th>\n",
       "      <td>24</td>\n",
       "      <td>41711</td>\n",
       "      <td>1</td>\n",
       "      <td>90</td>\n",
       "      <td>0</td>\n",
       "      <td>2000</td>\n",
       "      <td>3</td>\n",
       "      <td>4</td>\n",
       "      <td>5</td>\n",
       "      <td>1165</td>\n",
       "    </tr>\n",
       "    <tr>\n",
       "      <th>3</th>\n",
       "      <td>26</td>\n",
       "      <td>48000</td>\n",
       "      <td>1</td>\n",
       "      <td>90</td>\n",
       "      <td>0</td>\n",
       "      <td>2000</td>\n",
       "      <td>3</td>\n",
       "      <td>4</td>\n",
       "      <td>5</td>\n",
       "      <td>1165</td>\n",
       "    </tr>\n",
       "    <tr>\n",
       "      <th>4</th>\n",
       "      <td>30</td>\n",
       "      <td>38500</td>\n",
       "      <td>1</td>\n",
       "      <td>90</td>\n",
       "      <td>0</td>\n",
       "      <td>2000</td>\n",
       "      <td>3</td>\n",
       "      <td>4</td>\n",
       "      <td>5</td>\n",
       "      <td>1170</td>\n",
       "    </tr>\n",
       "  </tbody>\n",
       "</table>\n",
       "</div>"
      ],
      "text/plain": [
       "   Age_08_04     KM  Fuel_Type  HP  Automatic    cc  Doors  Cylinders  Gears  \\\n",
       "0         23  46986          1  90          0  2000      3          4      5   \n",
       "1         23  72937          1  90          0  2000      3          4      5   \n",
       "2         24  41711          1  90          0  2000      3          4      5   \n",
       "3         26  48000          1  90          0  2000      3          4      5   \n",
       "4         30  38500          1  90          0  2000      3          4      5   \n",
       "\n",
       "   Weight  \n",
       "0    1165  \n",
       "1    1165  \n",
       "2    1165  \n",
       "3    1165  \n",
       "4    1170  "
      ]
     },
     "execution_count": 25,
     "metadata": {},
     "output_type": "execute_result"
    }
   ],
   "source": [
    "features.head()"
   ]
  },
  {
   "cell_type": "code",
   "execution_count": 26,
   "id": "eb730cc9",
   "metadata": {},
   "outputs": [],
   "source": [
    "std=StandardScaler()"
   ]
  },
  {
   "cell_type": "code",
   "execution_count": 27,
   "id": "26d9b74d",
   "metadata": {},
   "outputs": [],
   "source": [
    "features1=std.fit_transform(features)"
   ]
  },
  {
   "cell_type": "code",
   "execution_count": 28,
   "id": "3be77824",
   "metadata": {},
   "outputs": [],
   "source": [
    "features=pd.DataFrame(features1,columns=features.columns)"
   ]
  },
  {
   "cell_type": "code",
   "execution_count": 29,
   "id": "98ad5851",
   "metadata": {},
   "outputs": [
    {
     "data": {
      "text/html": [
       "<div>\n",
       "<style scoped>\n",
       "    .dataframe tbody tr th:only-of-type {\n",
       "        vertical-align: middle;\n",
       "    }\n",
       "\n",
       "    .dataframe tbody tr th {\n",
       "        vertical-align: top;\n",
       "    }\n",
       "\n",
       "    .dataframe thead th {\n",
       "        text-align: right;\n",
       "    }\n",
       "</style>\n",
       "<table border=\"1\" class=\"dataframe\">\n",
       "  <thead>\n",
       "    <tr style=\"text-align: right;\">\n",
       "      <th></th>\n",
       "      <th>Age_08_04</th>\n",
       "      <th>KM</th>\n",
       "      <th>Fuel_Type</th>\n",
       "      <th>HP</th>\n",
       "      <th>Automatic</th>\n",
       "      <th>cc</th>\n",
       "      <th>Doors</th>\n",
       "      <th>Cylinders</th>\n",
       "      <th>Gears</th>\n",
       "      <th>Weight</th>\n",
       "    </tr>\n",
       "  </thead>\n",
       "  <tbody>\n",
       "    <tr>\n",
       "      <th>0</th>\n",
       "      <td>-1.777268</td>\n",
       "      <td>-0.575958</td>\n",
       "      <td>-2.343149</td>\n",
       "      <td>-0.767351</td>\n",
       "      <td>-0.242983</td>\n",
       "      <td>0.998113</td>\n",
       "      <td>-1.084443</td>\n",
       "      <td>0.0</td>\n",
       "      <td>-0.140475</td>\n",
       "      <td>1.774964</td>\n",
       "    </tr>\n",
       "    <tr>\n",
       "      <th>1</th>\n",
       "      <td>-1.777268</td>\n",
       "      <td>0.116474</td>\n",
       "      <td>-2.343149</td>\n",
       "      <td>-0.767351</td>\n",
       "      <td>-0.242983</td>\n",
       "      <td>0.998113</td>\n",
       "      <td>-1.084443</td>\n",
       "      <td>0.0</td>\n",
       "      <td>-0.140475</td>\n",
       "      <td>1.774964</td>\n",
       "    </tr>\n",
       "    <tr>\n",
       "      <th>2</th>\n",
       "      <td>-1.723380</td>\n",
       "      <td>-0.716707</td>\n",
       "      <td>-2.343149</td>\n",
       "      <td>-0.767351</td>\n",
       "      <td>-0.242983</td>\n",
       "      <td>0.998113</td>\n",
       "      <td>-1.084443</td>\n",
       "      <td>0.0</td>\n",
       "      <td>-0.140475</td>\n",
       "      <td>1.774964</td>\n",
       "    </tr>\n",
       "    <tr>\n",
       "      <th>3</th>\n",
       "      <td>-1.615603</td>\n",
       "      <td>-0.548902</td>\n",
       "      <td>-2.343149</td>\n",
       "      <td>-0.767351</td>\n",
       "      <td>-0.242983</td>\n",
       "      <td>0.998113</td>\n",
       "      <td>-1.084443</td>\n",
       "      <td>0.0</td>\n",
       "      <td>-0.140475</td>\n",
       "      <td>1.774964</td>\n",
       "    </tr>\n",
       "    <tr>\n",
       "      <th>4</th>\n",
       "      <td>-1.400049</td>\n",
       "      <td>-0.802384</td>\n",
       "      <td>-2.343149</td>\n",
       "      <td>-0.767351</td>\n",
       "      <td>-0.242983</td>\n",
       "      <td>0.998113</td>\n",
       "      <td>-1.084443</td>\n",
       "      <td>0.0</td>\n",
       "      <td>-0.140475</td>\n",
       "      <td>1.870688</td>\n",
       "    </tr>\n",
       "  </tbody>\n",
       "</table>\n",
       "</div>"
      ],
      "text/plain": [
       "   Age_08_04        KM  Fuel_Type        HP  Automatic        cc     Doors  \\\n",
       "0  -1.777268 -0.575958  -2.343149 -0.767351  -0.242983  0.998113 -1.084443   \n",
       "1  -1.777268  0.116474  -2.343149 -0.767351  -0.242983  0.998113 -1.084443   \n",
       "2  -1.723380 -0.716707  -2.343149 -0.767351  -0.242983  0.998113 -1.084443   \n",
       "3  -1.615603 -0.548902  -2.343149 -0.767351  -0.242983  0.998113 -1.084443   \n",
       "4  -1.400049 -0.802384  -2.343149 -0.767351  -0.242983  0.998113 -1.084443   \n",
       "\n",
       "   Cylinders     Gears    Weight  \n",
       "0        0.0 -0.140475  1.774964  \n",
       "1        0.0 -0.140475  1.774964  \n",
       "2        0.0 -0.140475  1.774964  \n",
       "3        0.0 -0.140475  1.774964  \n",
       "4        0.0 -0.140475  1.870688  "
      ]
     },
     "execution_count": 29,
     "metadata": {},
     "output_type": "execute_result"
    }
   ],
   "source": [
    "features.head()"
   ]
  },
  {
   "cell_type": "code",
   "execution_count": 33,
   "id": "9eecf3d1",
   "metadata": {},
   "outputs": [
    {
     "data": {
      "text/html": [
       "<style>#sk-container-id-1 {color: black;}#sk-container-id-1 pre{padding: 0;}#sk-container-id-1 div.sk-toggleable {background-color: white;}#sk-container-id-1 label.sk-toggleable__label {cursor: pointer;display: block;width: 100%;margin-bottom: 0;padding: 0.3em;box-sizing: border-box;text-align: center;}#sk-container-id-1 label.sk-toggleable__label-arrow:before {content: \"▸\";float: left;margin-right: 0.25em;color: #696969;}#sk-container-id-1 label.sk-toggleable__label-arrow:hover:before {color: black;}#sk-container-id-1 div.sk-estimator:hover label.sk-toggleable__label-arrow:before {color: black;}#sk-container-id-1 div.sk-toggleable__content {max-height: 0;max-width: 0;overflow: hidden;text-align: left;background-color: #f0f8ff;}#sk-container-id-1 div.sk-toggleable__content pre {margin: 0.2em;color: black;border-radius: 0.25em;background-color: #f0f8ff;}#sk-container-id-1 input.sk-toggleable__control:checked~div.sk-toggleable__content {max-height: 200px;max-width: 100%;overflow: auto;}#sk-container-id-1 input.sk-toggleable__control:checked~label.sk-toggleable__label-arrow:before {content: \"▾\";}#sk-container-id-1 div.sk-estimator input.sk-toggleable__control:checked~label.sk-toggleable__label {background-color: #d4ebff;}#sk-container-id-1 div.sk-label input.sk-toggleable__control:checked~label.sk-toggleable__label {background-color: #d4ebff;}#sk-container-id-1 input.sk-hidden--visually {border: 0;clip: rect(1px 1px 1px 1px);clip: rect(1px, 1px, 1px, 1px);height: 1px;margin: -1px;overflow: hidden;padding: 0;position: absolute;width: 1px;}#sk-container-id-1 div.sk-estimator {font-family: monospace;background-color: #f0f8ff;border: 1px dotted black;border-radius: 0.25em;box-sizing: border-box;margin-bottom: 0.5em;}#sk-container-id-1 div.sk-estimator:hover {background-color: #d4ebff;}#sk-container-id-1 div.sk-parallel-item::after {content: \"\";width: 100%;border-bottom: 1px solid gray;flex-grow: 1;}#sk-container-id-1 div.sk-label:hover label.sk-toggleable__label {background-color: #d4ebff;}#sk-container-id-1 div.sk-serial::before {content: \"\";position: absolute;border-left: 1px solid gray;box-sizing: border-box;top: 0;bottom: 0;left: 50%;z-index: 0;}#sk-container-id-1 div.sk-serial {display: flex;flex-direction: column;align-items: center;background-color: white;padding-right: 0.2em;padding-left: 0.2em;position: relative;}#sk-container-id-1 div.sk-item {position: relative;z-index: 1;}#sk-container-id-1 div.sk-parallel {display: flex;align-items: stretch;justify-content: center;background-color: white;position: relative;}#sk-container-id-1 div.sk-item::before, #sk-container-id-1 div.sk-parallel-item::before {content: \"\";position: absolute;border-left: 1px solid gray;box-sizing: border-box;top: 0;bottom: 0;left: 50%;z-index: -1;}#sk-container-id-1 div.sk-parallel-item {display: flex;flex-direction: column;z-index: 1;position: relative;background-color: white;}#sk-container-id-1 div.sk-parallel-item:first-child::after {align-self: flex-end;width: 50%;}#sk-container-id-1 div.sk-parallel-item:last-child::after {align-self: flex-start;width: 50%;}#sk-container-id-1 div.sk-parallel-item:only-child::after {width: 0;}#sk-container-id-1 div.sk-dashed-wrapped {border: 1px dashed gray;margin: 0 0.4em 0.5em 0.4em;box-sizing: border-box;padding-bottom: 0.4em;background-color: white;}#sk-container-id-1 div.sk-label label {font-family: monospace;font-weight: bold;display: inline-block;line-height: 1.2em;}#sk-container-id-1 div.sk-label-container {text-align: center;}#sk-container-id-1 div.sk-container {/* jupyter's `normalize.less` sets `[hidden] { display: none; }` but bootstrap.min.css set `[hidden] { display: none !important; }` so we also need the `!important` here to be able to override the default hidden behavior on the sphinx rendered scikit-learn.org. See: https://github.com/scikit-learn/scikit-learn/issues/21755 */display: inline-block !important;position: relative;}#sk-container-id-1 div.sk-text-repr-fallback {display: none;}</style><div id=\"sk-container-id-1\" class=\"sk-top-container\"><div class=\"sk-text-repr-fallback\"><pre>LinearRegression()</pre><b>In a Jupyter environment, please rerun this cell to show the HTML representation or trust the notebook. <br />On GitHub, the HTML representation is unable to render, please try loading this page with nbviewer.org.</b></div><div class=\"sk-container\" hidden><div class=\"sk-item\"><div class=\"sk-estimator sk-toggleable\"><input class=\"sk-toggleable__control sk-hidden--visually\" id=\"sk-estimator-id-1\" type=\"checkbox\" checked><label for=\"sk-estimator-id-1\" class=\"sk-toggleable__label sk-toggleable__label-arrow\">LinearRegression</label><div class=\"sk-toggleable__content\"><pre>LinearRegression()</pre></div></div></div></div></div>"
      ],
      "text/plain": [
       "LinearRegression()"
      ]
     },
     "execution_count": 33,
     "metadata": {},
     "output_type": "execute_result"
    }
   ],
   "source": [
    "LR.fit(xtrain,ytrain)"
   ]
  },
  {
   "cell_type": "code",
   "execution_count": 34,
   "id": "d3122e45",
   "metadata": {},
   "outputs": [
    {
     "data": {
      "text/plain": [
       "0.8509453620158254"
      ]
     },
     "execution_count": 34,
     "metadata": {},
     "output_type": "execute_result"
    }
   ],
   "source": [
    "LR.score(xtest,ytest)"
   ]
  },
  {
   "cell_type": "code",
   "execution_count": 35,
   "id": "030a9e22",
   "metadata": {},
   "outputs": [],
   "source": [
    "ypred=LR.predict(xtest)"
   ]
  },
  {
   "cell_type": "code",
   "execution_count": 36,
   "id": "ab89bd2e",
   "metadata": {},
   "outputs": [
    {
     "data": {
      "text/plain": [
       "array([17694.37046039,  7737.24546969,  6508.94305358, 12914.03385246,\n",
       "       13054.05973238, 11423.70331881, 14964.32659686,  8710.25820232,\n",
       "       13000.8760175 , 10299.22159533,  6510.09624668,  7898.79561144,\n",
       "       18271.97114206,  8123.40009004, 17484.58863829,  6406.0026605 ,\n",
       "        7460.51152272, 13337.70833533, 14609.95059353,  7675.12892019,\n",
       "       13399.64549949, 11207.57683864,  5606.60909351,  5339.73009714,\n",
       "       10621.72719297,  6174.43217936,  7432.58689775,  7349.71184985,\n",
       "        8187.50409854, 10672.37128451, 12272.81648092,  7621.86472324,\n",
       "       11465.3014432 ,  8026.20771723, 13374.86474128, 13220.18278797,\n",
       "       10179.58754734, 12767.38234489,  7540.97647815,  6496.41936026,\n",
       "        9031.11069513,  8237.96391652, 10383.16213568,  9488.09651756,\n",
       "       10734.5498176 , 18455.53633993, 20424.01425219, 15332.15525844,\n",
       "        8822.83461961,  9861.32775449,  9315.19903597, 13199.39693553,\n",
       "       12456.30370248, 10239.68846714, 12195.81546336, 11432.117287  ,\n",
       "        7703.96264166, 11599.17737925,  6122.6107208 , 10944.77441763,\n",
       "        8036.36756785, 10839.94861513,  6373.44898457,  9047.68640422,\n",
       "       11423.73265007, 13613.71708307,  7651.93653413, 10999.83157052,\n",
       "        8190.82053804,  8972.91311342, 10312.31179942, 16320.24437387,\n",
       "        9827.22074996,  7751.67709551,  9206.23659936, 10520.23677098,\n",
       "       10861.06849154,  9084.60128982, 11230.36165447,  7931.18360882,\n",
       "        9927.19701077, 12522.69819356, 11983.31181583, 11146.13453673,\n",
       "       10052.75205469,  7819.2532996 ,  8337.96498855, 18243.0274182 ,\n",
       "       18578.64200781,  8684.7526724 , 18338.18053385,  6186.93525622,\n",
       "        9392.79664415,  7695.40559411,  6521.35098837,  7970.15466577,\n",
       "       11392.19356637,  7793.41378808, 10217.40598695,  9604.84858802,\n",
       "        9485.0153283 ,  9548.72771946,  9584.79844508, 11018.35135832,\n",
       "        7115.71181791,  8467.22058455,  9029.49022033,  6569.25420454,\n",
       "       10465.32050524,  6498.31369639,  9363.08889204,  6875.72430236,\n",
       "        8265.69216618,  8512.17030671,  8325.81762195, 16856.30842763,\n",
       "        9173.94197   , 18084.48127042, 12952.15866003,  6387.25563851,\n",
       "       10439.90340532, 11160.5127586 ,  6694.18075134, 12332.93941796,\n",
       "       11734.45412897,  7691.89836433, 11020.83578964, 10265.23882001,\n",
       "       15908.91280769,  9484.05443372, 11876.61015707, 11126.10143154,\n",
       "        7421.33726984,  9086.47122342, 11029.86898273, 10654.80283545,\n",
       "        9064.023768  , 15316.65509747,  8672.69478682, 17500.03537529,\n",
       "        7656.61052696,  8047.45696402,  9667.73830372, 12190.1619138 ,\n",
       "        8046.84683773,  7725.34414513,  7784.83600843, 13534.68294584,\n",
       "       12859.94094349, 16846.99034916,  9593.47973325,  7450.18541942,\n",
       "        8695.38566346,  6265.42596941,  6823.62305501,  7418.98058698,\n",
       "       10426.93341921, 18819.78357681,  8738.36727541, 17263.29733033,\n",
       "        6617.71432268, 10757.06416767, 10112.95721248,  8523.71917428,\n",
       "        8524.86342241, 10345.0318073 ,  8514.93342103, 11277.31986732,\n",
       "       13095.93618991, 11747.19514081,  9796.8829204 , 11096.98782356,\n",
       "       13852.64606819,  7802.38145398, 12837.09595532,  8439.36929925,\n",
       "        8657.12709893,  8758.64067722,  9669.02541319,  8823.37073764,\n",
       "        8293.43766431, 12036.02638173, 13643.89652783,  5907.51565823,\n",
       "        7499.87035571,  9815.9509983 , 19095.01178603,  6540.59614647,\n",
       "       10266.07279972, 13221.43947345, 10567.46263292, 12269.50896812,\n",
       "        8114.10209094,  8574.9401414 , 10824.79517383,  7559.91974261,\n",
       "       16274.86832888, 11959.38493406,  8755.5476898 , 11077.853875  ,\n",
       "        9529.4326857 ,  7841.64214906, 11486.66029068, 12889.96093333,\n",
       "       12508.42203736, 17391.82362137, 11652.13507806,  9565.05369385,\n",
       "        8565.01926044,  6291.23419233,  7657.00940166, 17563.64228287,\n",
       "       10153.07948081, 13108.40083663,  7662.22693384, 18947.68590636,\n",
       "        6637.87471825, 10842.09977883, 11494.86787307, 17595.83995975,\n",
       "       16553.9114205 ,  9589.67887137,  7324.64158158, 13709.13261376,\n",
       "        8975.13228677,  9281.88168349, 10868.08604789, 19054.87553563,\n",
       "        8870.61887098,  7862.38733608, 10622.84435754, 19452.89581795,\n",
       "        8317.78478448, 14312.51180884, 13285.35118078, 10956.98644534,\n",
       "        7670.42001825, 17619.38446946, 10420.08130278, 10596.468093  ,\n",
       "       10366.57956449,  8904.49826129, 14032.39491405,  9423.18923202,\n",
       "        7645.66999507, 14012.37690443,  8771.33887007,  7196.85601504,\n",
       "       10247.98040971, 17315.20417894,  9413.33711105,  8033.79240211,\n",
       "        9336.8916796 , 10304.32839191, 22018.4198112 , 26735.07660304,\n",
       "       19533.74021292, 12963.35500095,  8676.9938952 , 18164.9602818 ,\n",
       "        7957.13804088,  7779.07330387,  9832.52386545,  9524.57991185,\n",
       "        8634.7136104 ,  7797.12322576,  7872.44677142,  6660.1100197 ,\n",
       "        7163.77840539,  8424.48473986, 13333.81024887,  8835.62708805,\n",
       "        8436.17668913, 10280.67574853, 12693.92896585, 13180.61228492,\n",
       "        8478.61216877, 10378.6035277 ,  9924.15026884,  8013.90162733,\n",
       "        9877.89723842,  9293.96178604,  8171.67972675, 13270.12928592,\n",
       "       13441.32980979,  7755.23304706, 12822.31974906])"
      ]
     },
     "execution_count": 36,
     "metadata": {},
     "output_type": "execute_result"
    }
   ],
   "source": [
    "ypred"
   ]
  },
  {
   "cell_type": "code",
   "execution_count": 37,
   "id": "26d7caa8",
   "metadata": {},
   "outputs": [
    {
     "data": {
      "text/plain": [
       "<Axes: xlabel='Price'>"
      ]
     },
     "execution_count": 37,
     "metadata": {},
     "output_type": "execute_result"
    },
    {
     "data": {
      "image/png": "[encoded data removed]",
      "text/plain": [
       "<Figure size 640x480 with 1 Axes>"
      ]
     },
     "metadata": {},
     "output_type": "display_data"
    }
   ],
   "source": [
    "sns.regplot(data=data,x=ytest,y=ypred,scatter_kws={'color':'red'},line_kws={'color':'green'})"
   ]
  },
  {
   "cell_type": "markdown",
   "id": "1fb3bcd0",
   "metadata": {},
   "source": [
    "## 2nd model"
   ]
  },
  {
   "cell_type": "code",
   "execution_count": 101,
   "id": "ee9e2ffa",
   "metadata": {},
   "outputs": [],
   "source": [
    "xtrain,xtest,ytrain,ytest=train_test_split(features,target,train_size=0.8,random_state=10)"
   ]
  },
  {
   "cell_type": "code",
   "execution_count": 102,
   "id": "eb215986",
   "metadata": {},
   "outputs": [
    {
     "data": {
      "text/html": [
       "<style>#sk-container-id-3 {color: black;}#sk-container-id-3 pre{padding: 0;}#sk-container-id-3 div.sk-toggleable {background-color: white;}#sk-container-id-3 label.sk-toggleable__label {cursor: pointer;display: block;width: 100%;margin-bottom: 0;padding: 0.3em;box-sizing: border-box;text-align: center;}#sk-container-id-3 label.sk-toggleable__label-arrow:before {content: \"▸\";float: left;margin-right: 0.25em;color: #696969;}#sk-container-id-3 label.sk-toggleable__label-arrow:hover:before {color: black;}#sk-container-id-3 div.sk-estimator:hover label.sk-toggleable__label-arrow:before {color: black;}#sk-container-id-3 div.sk-toggleable__content {max-height: 0;max-width: 0;overflow: hidden;text-align: left;background-color: #f0f8ff;}#sk-container-id-3 div.sk-toggleable__content pre {margin: 0.2em;color: black;border-radius: 0.25em;background-color: #f0f8ff;}#sk-container-id-3 input.sk-toggleable__control:checked~div.sk-toggleable__content {max-height: 200px;max-width: 100%;overflow: auto;}#sk-container-id-3 input.sk-toggleable__control:checked~label.sk-toggleable__label-arrow:before {content: \"▾\";}#sk-container-id-3 div.sk-estimator input.sk-toggleable__control:checked~label.sk-toggleable__label {background-color: #d4ebff;}#sk-container-id-3 div.sk-label input.sk-toggleable__control:checked~label.sk-toggleable__label {background-color: #d4ebff;}#sk-container-id-3 input.sk-hidden--visually {border: 0;clip: rect(1px 1px 1px 1px);clip: rect(1px, 1px, 1px, 1px);height: 1px;margin: -1px;overflow: hidden;padding: 0;position: absolute;width: 1px;}#sk-container-id-3 div.sk-estimator {font-family: monospace;background-color: #f0f8ff;border: 1px dotted black;border-radius: 0.25em;box-sizing: border-box;margin-bottom: 0.5em;}#sk-container-id-3 div.sk-estimator:hover {background-color: #d4ebff;}#sk-container-id-3 div.sk-parallel-item::after {content: \"\";width: 100%;border-bottom: 1px solid gray;flex-grow: 1;}#sk-container-id-3 div.sk-label:hover label.sk-toggleable__label {background-color: #d4ebff;}#sk-container-id-3 div.sk-serial::before {content: \"\";position: absolute;border-left: 1px solid gray;box-sizing: border-box;top: 0;bottom: 0;left: 50%;z-index: 0;}#sk-container-id-3 div.sk-serial {display: flex;flex-direction: column;align-items: center;background-color: white;padding-right: 0.2em;padding-left: 0.2em;position: relative;}#sk-container-id-3 div.sk-item {position: relative;z-index: 1;}#sk-container-id-3 div.sk-parallel {display: flex;align-items: stretch;justify-content: center;background-color: white;position: relative;}#sk-container-id-3 div.sk-item::before, #sk-container-id-3 div.sk-parallel-item::before {content: \"\";position: absolute;border-left: 1px solid gray;box-sizing: border-box;top: 0;bottom: 0;left: 50%;z-index: -1;}#sk-container-id-3 div.sk-parallel-item {display: flex;flex-direction: column;z-index: 1;position: relative;background-color: white;}#sk-container-id-3 div.sk-parallel-item:first-child::after {align-self: flex-end;width: 50%;}#sk-container-id-3 div.sk-parallel-item:last-child::after {align-self: flex-start;width: 50%;}#sk-container-id-3 div.sk-parallel-item:only-child::after {width: 0;}#sk-container-id-3 div.sk-dashed-wrapped {border: 1px dashed gray;margin: 0 0.4em 0.5em 0.4em;box-sizing: border-box;padding-bottom: 0.4em;background-color: white;}#sk-container-id-3 div.sk-label label {font-family: monospace;font-weight: bold;display: inline-block;line-height: 1.2em;}#sk-container-id-3 div.sk-label-container {text-align: center;}#sk-container-id-3 div.sk-container {/* jupyter's `normalize.less` sets `[hidden] { display: none; }` but bootstrap.min.css set `[hidden] { display: none !important; }` so we also need the `!important` here to be able to override the default hidden behavior on the sphinx rendered scikit-learn.org. See: https://github.com/scikit-learn/scikit-learn/issues/21755 */display: inline-block !important;position: relative;}#sk-container-id-3 div.sk-text-repr-fallback {display: none;}</style><div id=\"sk-container-id-3\" class=\"sk-top-container\"><div class=\"sk-text-repr-fallback\"><pre>LinearRegression()</pre><b>In a Jupyter environment, please rerun this cell to show the HTML representation or trust the notebook. <br />On GitHub, the HTML representation is unable to render, please try loading this page with nbviewer.org.</b></div><div class=\"sk-container\" hidden><div class=\"sk-item\"><div class=\"sk-estimator sk-toggleable\"><input class=\"sk-toggleable__control sk-hidden--visually\" id=\"sk-estimator-id-3\" type=\"checkbox\" checked><label for=\"sk-estimator-id-3\" class=\"sk-toggleable__label sk-toggleable__label-arrow\">LinearRegression</label><div class=\"sk-toggleable__content\"><pre>LinearRegression()</pre></div></div></div></div></div>"
      ],
      "text/plain": [
       "LinearRegression()"
      ]
     },
     "execution_count": 102,
     "metadata": {},
     "output_type": "execute_result"
    }
   ],
   "source": [
    "LR.fit(xtrain,ytrain)"
   ]
  },
  {
   "cell_type": "code",
   "execution_count": 103,
   "id": "ac761547",
   "metadata": {},
   "outputs": [
    {
     "data": {
      "text/plain": [
       "0.865788206381325"
      ]
     },
     "execution_count": 103,
     "metadata": {},
     "output_type": "execute_result"
    }
   ],
   "source": [
    "LR.score(xtest,ytest)"
   ]
  },
  {
   "cell_type": "code",
   "execution_count": 104,
   "id": "f415f7db",
   "metadata": {},
   "outputs": [],
   "source": [
    "ypred=LR.predict(xtest)"
   ]
  },
  {
   "cell_type": "code",
   "execution_count": 105,
   "id": "024b7752",
   "metadata": {},
   "outputs": [
    {
     "data": {
      "text/plain": [
       "<Axes: xlabel='Price'>"
      ]
     },
     "execution_count": 105,
     "metadata": {},
     "output_type": "execute_result"
    },
    {
     "data": {
      "image/png": "[encoded data removed]",
      "text/plain": [
       "<Figure size 640x480 with 1 Axes>"
      ]
     },
     "metadata": {},
     "output_type": "display_data"
    }
   ],
   "source": [
    "sns.regplot(data=data,x=ytest,y=ypred,scatter_kws={'color':'red'},line_kws={'color':'green'})"
   ]
  },
  {
   "cell_type": "markdown",
   "id": "9940632f",
   "metadata": {},
   "source": [
    "## 3rd model"
   ]
  },
  {
   "cell_type": "code",
   "execution_count": 109,
   "id": "973bda35",
   "metadata": {},
   "outputs": [],
   "source": [
    "xtrain,xtest,ytrain,ytest=train_test_split(features,target,train_size=0.8,random_state=30)"
   ]
  },
  {
   "cell_type": "code",
   "execution_count": 110,
   "id": "9482f9df",
   "metadata": {},
   "outputs": [
    {
     "data": {
      "text/html": [
       "<style>#sk-container-id-5 {color: black;}#sk-container-id-5 pre{padding: 0;}#sk-container-id-5 div.sk-toggleable {background-color: white;}#sk-container-id-5 label.sk-toggleable__label {cursor: pointer;display: block;width: 100%;margin-bottom: 0;padding: 0.3em;box-sizing: border-box;text-align: center;}#sk-container-id-5 label.sk-toggleable__label-arrow:before {content: \"▸\";float: left;margin-right: 0.25em;color: #696969;}#sk-container-id-5 label.sk-toggleable__label-arrow:hover:before {color: black;}#sk-container-id-5 div.sk-estimator:hover label.sk-toggleable__label-arrow:before {color: black;}#sk-container-id-5 div.sk-toggleable__content {max-height: 0;max-width: 0;overflow: hidden;text-align: left;background-color: #f0f8ff;}#sk-container-id-5 div.sk-toggleable__content pre {margin: 0.2em;color: black;border-radius: 0.25em;background-color: #f0f8ff;}#sk-container-id-5 input.sk-toggleable__control:checked~div.sk-toggleable__content {max-height: 200px;max-width: 100%;overflow: auto;}#sk-container-id-5 input.sk-toggleable__control:checked~label.sk-toggleable__label-arrow:before {content: \"▾\";}#sk-container-id-5 div.sk-estimator input.sk-toggleable__control:checked~label.sk-toggleable__label {background-color: #d4ebff;}#sk-container-id-5 div.sk-label input.sk-toggleable__control:checked~label.sk-toggleable__label {background-color: #d4ebff;}#sk-container-id-5 input.sk-hidden--visually {border: 0;clip: rect(1px 1px 1px 1px);clip: rect(1px, 1px, 1px, 1px);height: 1px;margin: -1px;overflow: hidden;padding: 0;position: absolute;width: 1px;}#sk-container-id-5 div.sk-estimator {font-family: monospace;background-color: #f0f8ff;border: 1px dotted black;border-radius: 0.25em;box-sizing: border-box;margin-bottom: 0.5em;}#sk-container-id-5 div.sk-estimator:hover {background-color: #d4ebff;}#sk-container-id-5 div.sk-parallel-item::after {content: \"\";width: 100%;border-bottom: 1px solid gray;flex-grow: 1;}#sk-container-id-5 div.sk-label:hover label.sk-toggleable__label {background-color: #d4ebff;}#sk-container-id-5 div.sk-serial::before {content: \"\";position: absolute;border-left: 1px solid gray;box-sizing: border-box;top: 0;bottom: 0;left: 50%;z-index: 0;}#sk-container-id-5 div.sk-serial {display: flex;flex-direction: column;align-items: center;background-color: white;padding-right: 0.2em;padding-left: 0.2em;position: relative;}#sk-container-id-5 div.sk-item {position: relative;z-index: 1;}#sk-container-id-5 div.sk-parallel {display: flex;align-items: stretch;justify-content: center;background-color: white;position: relative;}#sk-container-id-5 div.sk-item::before, #sk-container-id-5 div.sk-parallel-item::before {content: \"\";position: absolute;border-left: 1px solid gray;box-sizing: border-box;top: 0;bottom: 0;left: 50%;z-index: -1;}#sk-container-id-5 div.sk-parallel-item {display: flex;flex-direction: column;z-index: 1;position: relative;background-color: white;}#sk-container-id-5 div.sk-parallel-item:first-child::after {align-self: flex-end;width: 50%;}#sk-container-id-5 div.sk-parallel-item:last-child::after {align-self: flex-start;width: 50%;}#sk-container-id-5 div.sk-parallel-item:only-child::after {width: 0;}#sk-container-id-5 div.sk-dashed-wrapped {border: 1px dashed gray;margin: 0 0.4em 0.5em 0.4em;box-sizing: border-box;padding-bottom: 0.4em;background-color: white;}#sk-container-id-5 div.sk-label label {font-family: monospace;font-weight: bold;display: inline-block;line-height: 1.2em;}#sk-container-id-5 div.sk-label-container {text-align: center;}#sk-container-id-5 div.sk-container {/* jupyter's `normalize.less` sets `[hidden] { display: none; }` but bootstrap.min.css set `[hidden] { display: none !important; }` so we also need the `!important` here to be able to override the default hidden behavior on the sphinx rendered scikit-learn.org. See: https://github.com/scikit-learn/scikit-learn/issues/21755 */display: inline-block !important;position: relative;}#sk-container-id-5 div.sk-text-repr-fallback {display: none;}</style><div id=\"sk-container-id-5\" class=\"sk-top-container\"><div class=\"sk-text-repr-fallback\"><pre>LinearRegression()</pre><b>In a Jupyter environment, please rerun this cell to show the HTML representation or trust the notebook. <br />On GitHub, the HTML representation is unable to render, please try loading this page with nbviewer.org.</b></div><div class=\"sk-container\" hidden><div class=\"sk-item\"><div class=\"sk-estimator sk-toggleable\"><input class=\"sk-toggleable__control sk-hidden--visually\" id=\"sk-estimator-id-5\" type=\"checkbox\" checked><label for=\"sk-estimator-id-5\" class=\"sk-toggleable__label sk-toggleable__label-arrow\">LinearRegression</label><div class=\"sk-toggleable__content\"><pre>LinearRegression()</pre></div></div></div></div></div>"
      ],
      "text/plain": [
       "LinearRegression()"
      ]
     },
     "execution_count": 110,
     "metadata": {},
     "output_type": "execute_result"
    }
   ],
   "source": [
    "LR.fit(xtrain,ytrain)"
   ]
  },
  {
   "cell_type": "code",
   "execution_count": 111,
   "id": "a5ea43b1",
   "metadata": {},
   "outputs": [
    {
     "data": {
      "text/plain": [
       "0.7888001945802131"
      ]
     },
     "execution_count": 111,
     "metadata": {},
     "output_type": "execute_result"
    }
   ],
   "source": [
    "LR.score(xtest,ytest)"
   ]
  },
  {
   "cell_type": "code",
   "execution_count": 112,
   "id": "5ca731e9",
   "metadata": {},
   "outputs": [],
   "source": [
    "ypred=LR.predict(xtest)"
   ]
  },
  {
   "cell_type": "code",
   "execution_count": 113,
   "id": "a8ea5974",
   "metadata": {},
   "outputs": [
    {
     "data": {
      "text/plain": [
       "<Axes: xlabel='Price'>"
      ]
     },
     "execution_count": 113,
     "metadata": {},
     "output_type": "execute_result"
    },
    {
     "data": {
      "image/png": "[encoded data removed]",
      "text/plain": [
       "<Figure size 640x480 with 1 Axes>"
      ]
     },
     "metadata": {},
     "output_type": "display_data"
    }
   ],
   "source": [
    "sns.regplot(data=data,x=ytest,y=ypred,scatter_kws={'color':'red'},line_kws={'color':'green'})"
   ]
  },
  {
   "cell_type": "markdown",
   "id": "1be239fe",
   "metadata": {},
   "source": [
    "## The second model had highest accuracy of 86%"
   ]
  },
  {
   "cell_type": "markdown",
   "id": "44301180",
   "metadata": {},
   "source": [
    "## Evaluation Metrics"
   ]
  },
  {
   "cell_type": "markdown",
   "id": "abf19ef4",
   "metadata": {},
   "source": [
    "#### Mean Absolute Error "
   ]
  },
  {
   "cell_type": "code",
   "execution_count": 38,
   "id": "61b467f6",
   "metadata": {},
   "outputs": [
    {
     "data": {
      "text/plain": [
       "array([17694.37046039,  7737.24546969,  6508.94305358, 12914.03385246,\n",
       "       13054.05973238, 11423.70331881, 14964.32659686,  8710.25820232,\n",
       "       13000.8760175 , 10299.22159533,  6510.09624668,  7898.79561144,\n",
       "       18271.97114206,  8123.40009004, 17484.58863829,  6406.0026605 ,\n",
       "        7460.51152272, 13337.70833533, 14609.95059353,  7675.12892019,\n",
       "       13399.64549949, 11207.57683864,  5606.60909351,  5339.73009714,\n",
       "       10621.72719297,  6174.43217936,  7432.58689775,  7349.71184985,\n",
       "        8187.50409854, 10672.37128451, 12272.81648092,  7621.86472324,\n",
       "       11465.3014432 ,  8026.20771723, 13374.86474128, 13220.18278797,\n",
       "       10179.58754734, 12767.38234489,  7540.97647815,  6496.41936026,\n",
       "        9031.11069513,  8237.96391652, 10383.16213568,  9488.09651756,\n",
       "       10734.5498176 , 18455.53633993, 20424.01425219, 15332.15525844,\n",
       "        8822.83461961,  9861.32775449,  9315.19903597, 13199.39693553,\n",
       "       12456.30370248, 10239.68846714, 12195.81546336, 11432.117287  ,\n",
       "        7703.96264166, 11599.17737925,  6122.6107208 , 10944.77441763,\n",
       "        8036.36756785, 10839.94861513,  6373.44898457,  9047.68640422,\n",
       "       11423.73265007, 13613.71708307,  7651.93653413, 10999.83157052,\n",
       "        8190.82053804,  8972.91311342, 10312.31179942, 16320.24437387,\n",
       "        9827.22074996,  7751.67709551,  9206.23659936, 10520.23677098,\n",
       "       10861.06849154,  9084.60128982, 11230.36165447,  7931.18360882,\n",
       "        9927.19701077, 12522.69819356, 11983.31181583, 11146.13453673,\n",
       "       10052.75205469,  7819.2532996 ,  8337.96498855, 18243.0274182 ,\n",
       "       18578.64200781,  8684.7526724 , 18338.18053385,  6186.93525622,\n",
       "        9392.79664415,  7695.40559411,  6521.35098837,  7970.15466577,\n",
       "       11392.19356637,  7793.41378808, 10217.40598695,  9604.84858802,\n",
       "        9485.0153283 ,  9548.72771946,  9584.79844508, 11018.35135832,\n",
       "        7115.71181791,  8467.22058455,  9029.49022033,  6569.25420454,\n",
       "       10465.32050524,  6498.31369639,  9363.08889204,  6875.72430236,\n",
       "        8265.69216618,  8512.17030671,  8325.81762195, 16856.30842763,\n",
       "        9173.94197   , 18084.48127042, 12952.15866003,  6387.25563851,\n",
       "       10439.90340532, 11160.5127586 ,  6694.18075134, 12332.93941796,\n",
       "       11734.45412897,  7691.89836433, 11020.83578964, 10265.23882001,\n",
       "       15908.91280769,  9484.05443372, 11876.61015707, 11126.10143154,\n",
       "        7421.33726984,  9086.47122342, 11029.86898273, 10654.80283545,\n",
       "        9064.023768  , 15316.65509747,  8672.69478682, 17500.03537529,\n",
       "        7656.61052696,  8047.45696402,  9667.73830372, 12190.1619138 ,\n",
       "        8046.84683773,  7725.34414513,  7784.83600843, 13534.68294584,\n",
       "       12859.94094349, 16846.99034916,  9593.47973325,  7450.18541942,\n",
       "        8695.38566346,  6265.42596941,  6823.62305501,  7418.98058698,\n",
       "       10426.93341921, 18819.78357681,  8738.36727541, 17263.29733033,\n",
       "        6617.71432268, 10757.06416767, 10112.95721248,  8523.71917428,\n",
       "        8524.86342241, 10345.0318073 ,  8514.93342103, 11277.31986732,\n",
       "       13095.93618991, 11747.19514081,  9796.8829204 , 11096.98782356,\n",
       "       13852.64606819,  7802.38145398, 12837.09595532,  8439.36929925,\n",
       "        8657.12709893,  8758.64067722,  9669.02541319,  8823.37073764,\n",
       "        8293.43766431, 12036.02638173, 13643.89652783,  5907.51565823,\n",
       "        7499.87035571,  9815.9509983 , 19095.01178603,  6540.59614647,\n",
       "       10266.07279972, 13221.43947345, 10567.46263292, 12269.50896812,\n",
       "        8114.10209094,  8574.9401414 , 10824.79517383,  7559.91974261,\n",
       "       16274.86832888, 11959.38493406,  8755.5476898 , 11077.853875  ,\n",
       "        9529.4326857 ,  7841.64214906, 11486.66029068, 12889.96093333,\n",
       "       12508.42203736, 17391.82362137, 11652.13507806,  9565.05369385,\n",
       "        8565.01926044,  6291.23419233,  7657.00940166, 17563.64228287,\n",
       "       10153.07948081, 13108.40083663,  7662.22693384, 18947.68590636,\n",
       "        6637.87471825, 10842.09977883, 11494.86787307, 17595.83995975,\n",
       "       16553.9114205 ,  9589.67887137,  7324.64158158, 13709.13261376,\n",
       "        8975.13228677,  9281.88168349, 10868.08604789, 19054.87553563,\n",
       "        8870.61887098,  7862.38733608, 10622.84435754, 19452.89581795,\n",
       "        8317.78478448, 14312.51180884, 13285.35118078, 10956.98644534,\n",
       "        7670.42001825, 17619.38446946, 10420.08130278, 10596.468093  ,\n",
       "       10366.57956449,  8904.49826129, 14032.39491405,  9423.18923202,\n",
       "        7645.66999507, 14012.37690443,  8771.33887007,  7196.85601504,\n",
       "       10247.98040971, 17315.20417894,  9413.33711105,  8033.79240211,\n",
       "        9336.8916796 , 10304.32839191, 22018.4198112 , 26735.07660304,\n",
       "       19533.74021292, 12963.35500095,  8676.9938952 , 18164.9602818 ,\n",
       "        7957.13804088,  7779.07330387,  9832.52386545,  9524.57991185,\n",
       "        8634.7136104 ,  7797.12322576,  7872.44677142,  6660.1100197 ,\n",
       "        7163.77840539,  8424.48473986, 13333.81024887,  8835.62708805,\n",
       "        8436.17668913, 10280.67574853, 12693.92896585, 13180.61228492,\n",
       "        8478.61216877, 10378.6035277 ,  9924.15026884,  8013.90162733,\n",
       "        9877.89723842,  9293.96178604,  8171.67972675, 13270.12928592,\n",
       "       13441.32980979,  7755.23304706, 12822.31974906])"
      ]
     },
     "execution_count": 38,
     "metadata": {},
     "output_type": "execute_result"
    }
   ],
   "source": [
    "ypred\n"
   ]
  },
  {
   "cell_type": "code",
   "execution_count": 39,
   "id": "e5f37681",
   "metadata": {},
   "outputs": [
    {
     "data": {
      "text/plain": [
       "83      17950\n",
       "1129     7950\n",
       "1368     8250\n",
       "522     18950\n",
       "318     11950\n",
       "        ...  \n",
       "1378     7750\n",
       "244     13500\n",
       "280     12950\n",
       "1398     8950\n",
       "251     11750\n",
       "Name: Price, Length: 287, dtype: int64"
      ]
     },
     "execution_count": 39,
     "metadata": {},
     "output_type": "execute_result"
    }
   ],
   "source": [
    "ytest"
   ]
  },
  {
   "cell_type": "code",
   "execution_count": 41,
   "id": "d7fc4f7c",
   "metadata": {},
   "outputs": [],
   "source": [
    "mae = np.mean(np.abs(ytest - ypred))"
   ]
  },
  {
   "cell_type": "code",
   "execution_count": 42,
   "id": "a172a700",
   "metadata": {},
   "outputs": [
    {
     "data": {
      "text/plain": [
       "1006.6856334562672"
      ]
     },
     "execution_count": 42,
     "metadata": {},
     "output_type": "execute_result"
    }
   ],
   "source": [
    "mae"
   ]
  },
  {
   "cell_type": "code",
   "execution_count": 45,
   "id": "132281d3",
   "metadata": {},
   "outputs": [],
   "source": [
    "# From the mae value we can infer that the price differs by 1006 "
   ]
  },
  {
   "cell_type": "markdown",
   "id": "bfa11214",
   "metadata": {},
   "source": [
    "## Mean Squared value"
   ]
  },
  {
   "cell_type": "code",
   "execution_count": 47,
   "id": "a9ab0cd9",
   "metadata": {},
   "outputs": [],
   "source": [
    "from sklearn.metrics import mean_squared_error"
   ]
  },
  {
   "cell_type": "code",
   "execution_count": 48,
   "id": "d7f99eed",
   "metadata": {},
   "outputs": [],
   "source": [
    "mse=mean_squared_error(ytest,ypred)"
   ]
  },
  {
   "cell_type": "code",
   "execution_count": 49,
   "id": "e0a7b292",
   "metadata": {},
   "outputs": [
    {
     "data": {
      "text/plain": [
       "1973183.6205006484"
      ]
     },
     "execution_count": 49,
     "metadata": {},
     "output_type": "execute_result"
    }
   ],
   "source": [
    "mse"
   ]
  },
  {
   "cell_type": "code",
   "execution_count": 50,
   "id": "0498dcd5",
   "metadata": {},
   "outputs": [],
   "source": [
    "# From the MSE value we can see that the actual value and predicted value has more difference"
   ]
  },
  {
   "cell_type": "markdown",
   "id": "99dcc306",
   "metadata": {},
   "source": [
    "# Root mean square error"
   ]
  },
  {
   "cell_type": "code",
   "execution_count": 51,
   "id": "75875596",
   "metadata": {},
   "outputs": [],
   "source": [
    "rmse=mse**0.5"
   ]
  },
  {
   "cell_type": "code",
   "execution_count": 52,
   "id": "5cd01064",
   "metadata": {},
   "outputs": [
    {
     "data": {
      "text/plain": [
       "1404.7005447783697"
      ]
     },
     "execution_count": 52,
     "metadata": {},
     "output_type": "execute_result"
    }
   ],
   "source": [
    "rmse"
   ]
  },
  {
   "cell_type": "code",
   "execution_count": 53,
   "id": "e480b593",
   "metadata": {},
   "outputs": [],
   "source": [
    "# From the RMSE value we can see that the actual value and predicted value has a difference of 1404"
   ]
  },
  {
   "cell_type": "code",
   "execution_count": 54,
   "id": "0b3d025f",
   "metadata": {},
   "outputs": [],
   "source": [
    "from sklearn.metrics import r2_score"
   ]
  },
  {
   "cell_type": "code",
   "execution_count": 55,
   "id": "a0ff6d90",
   "metadata": {},
   "outputs": [
    {
     "data": {
      "text/plain": [
       "0.8509453620158254"
      ]
     },
     "execution_count": 55,
     "metadata": {},
     "output_type": "execute_result"
    }
   ],
   "source": [
    "rsquare=r2_score(ytest,ypred)\n",
    "rsquare"
   ]
  },
  {
   "cell_type": "code",
   "execution_count": 56,
   "id": "8d554936",
   "metadata": {},
   "outputs": [],
   "source": [
    "# Higher the R2 value the model is good so our model is good fit"
   ]
  },
  {
   "cell_type": "markdown",
   "id": "78829db4",
   "metadata": {},
   "source": [
    "#Adjusted R2 value"
   ]
  },
  {
   "cell_type": "code",
   "execution_count": 59,
   "id": "28c00a08",
   "metadata": {},
   "outputs": [],
   "source": [
    "l=len(ytest)\n",
    "k=10-1"
   ]
  },
  {
   "cell_type": "code",
   "execution_count": 60,
   "id": "0d307caa",
   "metadata": {},
   "outputs": [],
   "source": [
    "ar2=1-(1-rsquare)*(l-1)/(l-k-1)"
   ]
  },
  {
   "cell_type": "code",
   "execution_count": 61,
   "id": "8714e90e",
   "metadata": {},
   "outputs": [
    {
     "data": {
      "text/plain": [
       "0.8461024315398052"
      ]
     },
     "execution_count": 61,
     "metadata": {},
     "output_type": "execute_result"
    }
   ],
   "source": [
    "ar2"
   ]
  },
  {
   "cell_type": "markdown",
   "id": "f98de77b",
   "metadata": {},
   "source": [
    "With the adjusted R2 value we can conclude that the model is performing good"
   ]
  },
  {
   "cell_type": "code",
   "execution_count": 63,
   "id": "ae611102",
   "metadata": {},
   "outputs": [],
   "source": [
    "from sklearn.linear_model import Lasso"
   ]
  },
  {
   "cell_type": "code",
   "execution_count": 64,
   "id": "fd4c4fa9",
   "metadata": {},
   "outputs": [],
   "source": [
    "lasso=Lasso(alpha=0.1)"
   ]
  },
  {
   "cell_type": "code",
   "execution_count": 65,
   "id": "2ffc2bde",
   "metadata": {},
   "outputs": [
    {
     "data": {
      "text/html": [
       "<style>#sk-container-id-2 {color: black;}#sk-container-id-2 pre{padding: 0;}#sk-container-id-2 div.sk-toggleable {background-color: white;}#sk-container-id-2 label.sk-toggleable__label {cursor: pointer;display: block;width: 100%;margin-bottom: 0;padding: 0.3em;box-sizing: border-box;text-align: center;}#sk-container-id-2 label.sk-toggleable__label-arrow:before {content: \"▸\";float: left;margin-right: 0.25em;color: #696969;}#sk-container-id-2 label.sk-toggleable__label-arrow:hover:before {color: black;}#sk-container-id-2 div.sk-estimator:hover label.sk-toggleable__label-arrow:before {color: black;}#sk-container-id-2 div.sk-toggleable__content {max-height: 0;max-width: 0;overflow: hidden;text-align: left;background-color: #f0f8ff;}#sk-container-id-2 div.sk-toggleable__content pre {margin: 0.2em;color: black;border-radius: 0.25em;background-color: #f0f8ff;}#sk-container-id-2 input.sk-toggleable__control:checked~div.sk-toggleable__content {max-height: 200px;max-width: 100%;overflow: auto;}#sk-container-id-2 input.sk-toggleable__control:checked~label.sk-toggleable__label-arrow:before {content: \"▾\";}#sk-container-id-2 div.sk-estimator input.sk-toggleable__control:checked~label.sk-toggleable__label {background-color: #d4ebff;}#sk-container-id-2 div.sk-label input.sk-toggleable__control:checked~label.sk-toggleable__label {background-color: #d4ebff;}#sk-container-id-2 input.sk-hidden--visually {border: 0;clip: rect(1px 1px 1px 1px);clip: rect(1px, 1px, 1px, 1px);height: 1px;margin: -1px;overflow: hidden;padding: 0;position: absolute;width: 1px;}#sk-container-id-2 div.sk-estimator {font-family: monospace;background-color: #f0f8ff;border: 1px dotted black;border-radius: 0.25em;box-sizing: border-box;margin-bottom: 0.5em;}#sk-container-id-2 div.sk-estimator:hover {background-color: #d4ebff;}#sk-container-id-2 div.sk-parallel-item::after {content: \"\";width: 100%;border-bottom: 1px solid gray;flex-grow: 1;}#sk-container-id-2 div.sk-label:hover label.sk-toggleable__label {background-color: #d4ebff;}#sk-container-id-2 div.sk-serial::before {content: \"\";position: absolute;border-left: 1px solid gray;box-sizing: border-box;top: 0;bottom: 0;left: 50%;z-index: 0;}#sk-container-id-2 div.sk-serial {display: flex;flex-direction: column;align-items: center;background-color: white;padding-right: 0.2em;padding-left: 0.2em;position: relative;}#sk-container-id-2 div.sk-item {position: relative;z-index: 1;}#sk-container-id-2 div.sk-parallel {display: flex;align-items: stretch;justify-content: center;background-color: white;position: relative;}#sk-container-id-2 div.sk-item::before, #sk-container-id-2 div.sk-parallel-item::before {content: \"\";position: absolute;border-left: 1px solid gray;box-sizing: border-box;top: 0;bottom: 0;left: 50%;z-index: -1;}#sk-container-id-2 div.sk-parallel-item {display: flex;flex-direction: column;z-index: 1;position: relative;background-color: white;}#sk-container-id-2 div.sk-parallel-item:first-child::after {align-self: flex-end;width: 50%;}#sk-container-id-2 div.sk-parallel-item:last-child::after {align-self: flex-start;width: 50%;}#sk-container-id-2 div.sk-parallel-item:only-child::after {width: 0;}#sk-container-id-2 div.sk-dashed-wrapped {border: 1px dashed gray;margin: 0 0.4em 0.5em 0.4em;box-sizing: border-box;padding-bottom: 0.4em;background-color: white;}#sk-container-id-2 div.sk-label label {font-family: monospace;font-weight: bold;display: inline-block;line-height: 1.2em;}#sk-container-id-2 div.sk-label-container {text-align: center;}#sk-container-id-2 div.sk-container {/* jupyter's `normalize.less` sets `[hidden] { display: none; }` but bootstrap.min.css set `[hidden] { display: none !important; }` so we also need the `!important` here to be able to override the default hidden behavior on the sphinx rendered scikit-learn.org. See: https://github.com/scikit-learn/scikit-learn/issues/21755 */display: inline-block !important;position: relative;}#sk-container-id-2 div.sk-text-repr-fallback {display: none;}</style><div id=\"sk-container-id-2\" class=\"sk-top-container\"><div class=\"sk-text-repr-fallback\"><pre>Lasso(alpha=0.1)</pre><b>In a Jupyter environment, please rerun this cell to show the HTML representation or trust the notebook. <br />On GitHub, the HTML representation is unable to render, please try loading this page with nbviewer.org.</b></div><div class=\"sk-container\" hidden><div class=\"sk-item\"><div class=\"sk-estimator sk-toggleable\"><input class=\"sk-toggleable__control sk-hidden--visually\" id=\"sk-estimator-id-2\" type=\"checkbox\" checked><label for=\"sk-estimator-id-2\" class=\"sk-toggleable__label sk-toggleable__label-arrow\">Lasso</label><div class=\"sk-toggleable__content\"><pre>Lasso(alpha=0.1)</pre></div></div></div></div></div>"
      ],
      "text/plain": [
       "Lasso(alpha=0.1)"
      ]
     },
     "execution_count": 65,
     "metadata": {},
     "output_type": "execute_result"
    }
   ],
   "source": [
    "lasso.fit(xtrain,ytrain)"
   ]
  },
  {
   "cell_type": "code",
   "execution_count": 66,
   "id": "2096bdc1",
   "metadata": {},
   "outputs": [],
   "source": [
    "ypred2=lasso.predict(xtest)"
   ]
  },
  {
   "cell_type": "code",
   "execution_count": 67,
   "id": "419e779c",
   "metadata": {},
   "outputs": [
    {
     "data": {
      "text/plain": [
       "array([17693.50079887,  7737.17136026,  6509.01165045, 12913.6366247 ,\n",
       "       13053.98883833, 11423.80209652, 14963.88980923,  8710.71770971,\n",
       "       13000.99832757, 10298.8189673 ,  6510.2990878 ,  7898.82946928,\n",
       "       18271.72385261,  8123.5738563 , 17484.41832532,  6406.30042591,\n",
       "        7460.68633588, 13337.63123728, 14609.27753702,  7675.30328711,\n",
       "       13399.63173799, 11207.70966699,  5607.0739873 ,  5340.11779135,\n",
       "       10621.68901403,  6175.22765735,  7432.85930068,  7350.17291803,\n",
       "        8187.54985514, 10672.44878908, 12272.94631158,  7621.89433564,\n",
       "       11465.27345867,  8026.1170735 , 13374.96353973, 13220.27921511,\n",
       "       10179.95612603, 12767.29422136,  7541.25493587,  6496.457874  ,\n",
       "        9031.61212176,  8237.45836776, 10383.16239835,  9488.29872141,\n",
       "       10734.69716649, 18453.09113439, 20422.78637147, 15331.98783775,\n",
       "        8823.26608431,  9861.36180738,  9315.1192259 , 13199.4967804 ,\n",
       "       12456.18610945, 10239.15434156, 12195.89764082, 11432.21619371,\n",
       "        7704.04200363, 11599.25788285,  6122.90414172, 10944.93165411,\n",
       "        8036.54065663, 10840.06833485,  6373.80977546,  9047.62864785,\n",
       "       11423.40388502, 13613.78591567,  7652.11801828, 10999.2866798 ,\n",
       "        8190.8588727 ,  8972.54782405, 10311.65795575, 16320.02320976,\n",
       "        9826.81095093,  7751.84208351,  9206.28332683, 10520.14554335,\n",
       "       10861.06113508,  9084.53289019, 11229.81282506,  7931.34093695,\n",
       "        9927.44492256, 12522.78164583, 11983.28429977, 11146.20435866,\n",
       "       10052.66860595,  7819.30225566,  8338.13718662, 18242.13627661,\n",
       "       18578.36532468,  8684.75893304, 18337.63916605,  6186.95407991,\n",
       "        9392.7068145 ,  7695.44380669,  6521.38988432,  7970.31860995,\n",
       "       11392.3068066 ,  7793.44976677, 10216.87525616,  9604.76948197,\n",
       "        9485.09850289,  9548.65148945,  9584.55615627, 11017.94815191,\n",
       "        7116.01672697,  8467.41606504,  9029.4425775 ,  6569.58128414,\n",
       "       10465.23217212,  6498.60540416,  9363.27858346,  6876.00311399,\n",
       "        8265.96986808,  8512.38855793,  8326.26002658, 16856.35224227,\n",
       "        9174.08098606, 18084.29252503, 12952.25097827,  6387.54938013,\n",
       "       10440.0319378 , 11160.92401531,  6695.23305568, 12333.02369757,\n",
       "       11734.37632509,  7691.8347689 , 11020.41020297, 10265.23727488,\n",
       "       15908.45539911,  9483.96600307, 11876.77340866, 11126.20685611,\n",
       "        7421.26952663,  9086.51207949, 11029.9841412 , 10654.70993437,\n",
       "        9063.94384373, 15316.19608219,  8672.61259975, 17499.22562709,\n",
       "        7656.80768509,  8047.39881941,  9667.93316983, 12190.27617794,\n",
       "        8047.05795541,  7725.26757104,  7784.89801037, 13534.76924879,\n",
       "       12859.31710555, 16846.52490323,  9593.07894935,  7450.13306402,\n",
       "        8695.56819843,  6265.87415156,  6823.67779406,  7419.18157496,\n",
       "       10426.37974579, 18819.61131442,  8738.41400413, 17262.77311178,\n",
       "        6617.77337787, 10757.43786286, 10112.4061985 ,  8523.91319588,\n",
       "        8524.76174126, 10345.15888537,  8515.08848904, 11277.20059986,\n",
       "       13096.0845066 , 11746.77162261,  9796.87045884, 11096.58651086,\n",
       "       13852.66314388,  7802.56150811, 12837.17848403,  8439.51947245,\n",
       "        8656.93533149,  8758.7658538 ,  9669.00351875,  8823.63457056,\n",
       "        8293.66867262, 12035.981638  , 13643.30567234,  5907.77962693,\n",
       "        7500.00612612,  9815.85644655, 19094.75843207,  6540.64654662,\n",
       "       10266.40567649, 13221.53218346, 10567.61782149, 12269.63272947,\n",
       "        8114.18666738,  8575.2269773 , 10824.70114239,  7560.08487055,\n",
       "       16274.64273275, 11959.33235062,  8755.71246511, 11077.81686056,\n",
       "        9529.57261773,  7841.83840738, 11486.56374247, 12890.03133389,\n",
       "       12507.8778608 , 17391.50449085, 11652.12490332,  9565.22340634,\n",
       "        8565.17625736,  6291.52646191,  7656.95648055, 17563.36528128,\n",
       "       10152.5365547 , 13108.50611312,  7662.26837418, 18947.22424778,\n",
       "        6638.19537704, 10842.08465879, 11495.01940508, 17595.60472337,\n",
       "       16553.73283855,  9589.59579637,  7324.80683903, 13709.24709965,\n",
       "        8975.13926262,  9282.0223543 , 10868.04208126, 19054.03599767,\n",
       "        8870.80409232,  7862.39967158, 10622.75096653, 19452.24701473,\n",
       "        8318.06702136, 14312.58761777, 13285.54347175, 10957.11852229,\n",
       "        7670.59431298, 17619.14959402, 10420.23423195, 10596.47162571,\n",
       "       10366.73606661,  8904.56132719, 14032.47763789,  9423.14015193,\n",
       "        7645.86861095, 14012.48856636,  8771.48292328,  7196.77735768,\n",
       "       10247.96365443, 17314.91933611,  9412.70311337,  8034.70242531,\n",
       "        9337.1820669 , 10304.46525775, 22017.77544209, 26733.56840406,\n",
       "       19532.52483878, 12963.3030238 ,  8677.13276568, 18164.50156938,\n",
       "        7957.34292944,  7779.27770125,  9832.45572252,  9524.55206663,\n",
       "        8634.21040754,  7797.29688757,  7872.72218114,  6660.16598843,\n",
       "        7164.07284215,  8424.43984797, 13333.92271735,  8835.85403435,\n",
       "        8436.16792986, 10280.56735697, 12694.00757036, 13180.5514605 ,\n",
       "        8478.8893984 , 10378.76703019,  9924.06256639,  8014.29213127,\n",
       "        9877.82979107,  9293.86670483,  8171.87357187, 13270.21526957,\n",
       "       13441.39371742,  7755.52907821, 12822.41381323])"
      ]
     },
     "execution_count": 67,
     "metadata": {},
     "output_type": "execute_result"
    }
   ],
   "source": [
    "ypred2"
   ]
  },
  {
   "cell_type": "code",
   "execution_count": 68,
   "id": "18d03927",
   "metadata": {},
   "outputs": [
    {
     "data": {
      "text/plain": [
       "0.8509563016914294"
      ]
     },
     "execution_count": 68,
     "metadata": {},
     "output_type": "execute_result"
    }
   ],
   "source": [
    "rsqul=r2_score(ytest,ypred2)\n",
    "rsqul"
   ]
  },
  {
   "cell_type": "markdown",
   "id": "30d8b6a7",
   "metadata": {},
   "source": [
    "the lasso model is being a good fit"
   ]
  },
  {
   "cell_type": "code",
   "execution_count": 71,
   "id": "e3f704f4",
   "metadata": {},
   "outputs": [
    {
     "data": {
      "text/plain": [
       "<Axes: >"
      ]
     },
     "execution_count": 71,
     "metadata": {},
     "output_type": "execute_result"
    },
    {
     "data": {
      "image/png": "[encoded data removed]",
      "text/plain": [
       "<Figure size 640x480 with 1 Axes>"
      ]
     },
     "metadata": {},
     "output_type": "display_data"
    }
   ],
   "source": [
    "sns.regplot(data=data,x=ypred2,y=ypred,scatter_kws={'color':'red'},line_kws={'color':'green'})"
   ]
  },
  {
   "cell_type": "markdown",
   "id": "2d9181f5",
   "metadata": {},
   "source": [
    "Here we can see that lasso model and linear regression model provide almost same prediction"
   ]
  },
  {
   "cell_type": "markdown",
   "id": "33870bab",
   "metadata": {},
   "source": [
    "From the model we can infer that the mode is 85% accurate and the error is 15% the lasso model also gives us 85% accuracy"
   ]
  },
  {
   "cell_type": "code",
   "execution_count": null,
   "id": "2ea7c85f",
   "metadata": {},
   "outputs": [],
   "source": []
  }
 ],
 "metadata": {
  "kernelspec": {
   "display_name": "Python 3 (ipykernel)",
   "language": "python",
   "name": "python3"
  },
  "language_info": {
   "codemirror_mode": {
    "name": "ipython",
    "version": 3
   },
   "file_extension": ".py",
   "mimetype": "text/x-python",
   "name": "python",
   "nbconvert_exporter": "python",
   "pygments_lexer": "ipython3",
   "version": "3.11.5"
  }
 },
 "nbformat": 4,
 "nbformat_minor": 5
}
